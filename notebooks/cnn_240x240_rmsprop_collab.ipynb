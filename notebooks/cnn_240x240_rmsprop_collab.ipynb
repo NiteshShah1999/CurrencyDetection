{
  "metadata": {
    "kernelspec": {
      "language": "python",
      "display_name": "Python 3",
      "name": "python3"
    },
    "language_info": {
      "name": "python",
      "version": "3.10.13",
      "mimetype": "text/x-python",
      "codemirror_mode": {
        "name": "ipython",
        "version": 3
      },
      "pygments_lexer": "ipython3",
      "nbconvert_exporter": "python",
      "file_extension": ".py"
    },
    "kaggle": {
      "accelerator": "nvidiaTeslaT4",
      "dataSources": [
        {
          "sourceId": 1505106,
          "sourceType": "datasetVersion",
          "datasetId": 886101
        }
      ],
      "isInternetEnabled": true,
      "language": "python",
      "sourceType": "notebook",
      "isGpuEnabled": true
    },
    "colab": {
      "name": "cnn_240x240_rmsprop",
      "provenance": []
    }
  },
  "nbformat_minor": 0,
  "nbformat": 4,
  "cells": [
    {
      "source": [
        "\n",
        "# IMPORTANT: RUN THIS CELL IN ORDER TO IMPORT YOUR KAGGLE DATA SOURCES\n",
        "# TO THE CORRECT LOCATION (/kaggle/input) IN YOUR NOTEBOOK,\n",
        "# THEN FEEL FREE TO DELETE THIS CELL.\n",
        "# NOTE: THIS NOTEBOOK ENVIRONMENT DIFFERS FROM KAGGLE'S PYTHON\n",
        "# ENVIRONMENT SO THERE MAY BE MISSING LIBRARIES USED BY YOUR\n",
        "# NOTEBOOK.\n",
        "\n",
        "import os\n",
        "import sys\n",
        "from tempfile import NamedTemporaryFile\n",
        "from urllib.request import urlopen\n",
        "from urllib.parse import unquote, urlparse\n",
        "from urllib.error import HTTPError\n",
        "from zipfile import ZipFile\n",
        "import tarfile\n",
        "import shutil\n",
        "\n",
        "CHUNK_SIZE = 40960\n",
        "DATA_SOURCE_MAPPING = 'indian-currency-note-images-dataset-2020:https%3A%2F%2Fstorage.googleapis.com%2Fkaggle-data-sets%2F886101%2F1505106%2Fbundle%2Farchive.zip%3FX-Goog-Algorithm%3DGOOG4-RSA-SHA256%26X-Goog-Credential%3Dgcp-kaggle-com%2540kaggle-161607.iam.gserviceaccount.com%252F20240402%252Fauto%252Fstorage%252Fgoog4_request%26X-Goog-Date%3D20240402T043623Z%26X-Goog-Expires%3D259200%26X-Goog-SignedHeaders%3Dhost%26X-Goog-Signature%3Daac0e43532c543766e13fea2ad205a5495c2f23e693645b343d4bcab75f5fa21b19ed9f6269243209a296f8deb3862d4c15f693703a2d37f85b9feab273b3daac21c7de4ab5ca0e5ddb4e1c6a33e35f472035755108d58044d94bd20fe6e216615b72b7c011973dec3666ae55d08a3489c01c00a9c94114baaacbb8cf9bbd12223c6459a6b2f13f4ecb969ae68cb6bb8df62013fc2e3a22709dea634ae996ed1e9582bba4f9a51da39090f08d40923c823916fa84f67eafead0d3d5f5e8a47078885234baf0fe2cc5551e25e23a838a1376178a033a2096bd852e8f43ec3317fb8899f1c2ad254595514e00b3055bd3b622770eb29fda9a45299d921f1d4ad7b'\n",
        "\n",
        "KAGGLE_INPUT_PATH='/kaggle/input'\n",
        "KAGGLE_WORKING_PATH='/kaggle/working'\n",
        "KAGGLE_SYMLINK='kaggle'\n",
        "\n",
        "!umount /kaggle/input/ 2> /dev/null\n",
        "shutil.rmtree('/kaggle/input', ignore_errors=True)\n",
        "os.makedirs(KAGGLE_INPUT_PATH, 0o777, exist_ok=True)\n",
        "os.makedirs(KAGGLE_WORKING_PATH, 0o777, exist_ok=True)\n",
        "\n",
        "try:\n",
        "  os.symlink(KAGGLE_INPUT_PATH, os.path.join(\"..\", 'input'), target_is_directory=True)\n",
        "except FileExistsError:\n",
        "  pass\n",
        "try:\n",
        "  os.symlink(KAGGLE_WORKING_PATH, os.path.join(\"..\", 'working'), target_is_directory=True)\n",
        "except FileExistsError:\n",
        "  pass\n",
        "\n",
        "for data_source_mapping in DATA_SOURCE_MAPPING.split(','):\n",
        "    directory, download_url_encoded = data_source_mapping.split(':')\n",
        "    download_url = unquote(download_url_encoded)\n",
        "    filename = urlparse(download_url).path\n",
        "    destination_path = os.path.join(KAGGLE_INPUT_PATH, directory)\n",
        "    try:\n",
        "        with urlopen(download_url) as fileres, NamedTemporaryFile() as tfile:\n",
        "            total_length = fileres.headers['content-length']\n",
        "            print(f'Downloading {directory}, {total_length} bytes compressed')\n",
        "            dl = 0\n",
        "            data = fileres.read(CHUNK_SIZE)\n",
        "            while len(data) > 0:\n",
        "                dl += len(data)\n",
        "                tfile.write(data)\n",
        "                done = int(50 * dl / int(total_length))\n",
        "                sys.stdout.write(f\"\\r[{'=' * done}{' ' * (50-done)}] {dl} bytes downloaded\")\n",
        "                sys.stdout.flush()\n",
        "                data = fileres.read(CHUNK_SIZE)\n",
        "            if filename.endswith('.zip'):\n",
        "              with ZipFile(tfile) as zfile:\n",
        "                zfile.extractall(destination_path)\n",
        "            else:\n",
        "              with tarfile.open(tfile.name) as tarfile:\n",
        "                tarfile.extractall(destination_path)\n",
        "            print(f'\\nDownloaded and uncompressed: {directory}')\n",
        "    except HTTPError as e:\n",
        "        print(f'Failed to load (likely expired) {download_url} to path {destination_path}')\n",
        "        continue\n",
        "    except OSError as e:\n",
        "        print(f'Failed to load {download_url} to path {destination_path}')\n",
        "        continue\n",
        "\n",
        "print('Data source import complete.')\n"
      ],
      "metadata": {
        "id": "CR7O9x8xGCXS"
      },
      "cell_type": "code",
      "outputs": [],
      "execution_count": null
    },
    {
      "cell_type": "code",
      "source": [
        "import numpy as np # linear algebra\n",
        "import pandas as pd # data processing, CSV file I/O (e.g. pd.read_csv)"
      ],
      "metadata": {
        "_uuid": "8f2839f25d086af736a60e9eeb907d3b93b6e0e5",
        "_cell_guid": "b1076dfc-b9ad-4769-8c92-a6c4dae69d19",
        "execution": {
          "iopub.status.busy": "2024-03-24T09:06:59.257625Z",
          "iopub.execute_input": "2024-03-24T09:06:59.258006Z",
          "iopub.status.idle": "2024-03-24T09:06:59.262691Z",
          "shell.execute_reply.started": "2024-03-24T09:06:59.257975Z",
          "shell.execute_reply": "2024-03-24T09:06:59.26173Z"
        },
        "trusted": true,
        "id": "IgwzHypsGCXc"
      },
      "execution_count": null,
      "outputs": []
    },
    {
      "cell_type": "code",
      "source": [
        "import tensorflow as tf\n",
        "from tensorflow.keras.preprocessing.image import ImageDataGenerator\n",
        "import numpy as np\n",
        "from keras.models import Sequential\n",
        "import matplotlib.pyplot as plt\n",
        "from keras.utils import plot_model\n"
      ],
      "metadata": {
        "execution": {
          "iopub.status.busy": "2024-03-24T09:06:59.264309Z",
          "iopub.execute_input": "2024-03-24T09:06:59.264676Z",
          "iopub.status.idle": "2024-03-24T09:06:59.283998Z",
          "shell.execute_reply.started": "2024-03-24T09:06:59.26465Z",
          "shell.execute_reply": "2024-03-24T09:06:59.283128Z"
        },
        "trusted": true,
        "id": "MC1YhhksGCXg"
      },
      "execution_count": null,
      "outputs": []
    },
    {
      "cell_type": "code",
      "source": [
        "model = Sequential([\n",
        "  tf.keras.layers.Conv2D(256, (3, 3), activation='relu',input_shape=(240, 240, 3)),\n",
        "  tf.keras.layers.MaxPooling2D((2, 2)),\n",
        "  tf.keras.layers.Conv2D(128, (3, 3), activation='relu'),\n",
        "  tf.keras.layers.MaxPooling2D((2, 2)),\n",
        "  tf.keras.layers.Conv2D(64, (3, 3), activation='relu'),\n",
        "  tf.keras.layers.MaxPooling2D((2, 2)),\n",
        "  tf.keras.layers.Conv2D(32, (3, 3), activation='relu'),\n",
        "  tf.keras.layers.MaxPooling2D((2, 2)),\n",
        "  tf.keras.layers.Conv2D(16, (3, 3), activation='relu'),\n",
        "  tf.keras.layers.MaxPooling2D((2, 2)),\n",
        "  tf.keras.layers.Flatten(),\n",
        "  tf.keras.layers.Dense(512, activation='relu'),\n",
        "  tf.keras.layers.Dense(256, activation='relu'),\n",
        "  tf.keras.layers.Dense(128, activation='relu'),\n",
        "  tf.keras.layers.Dense(8, activation='softmax')\n",
        "])\n",
        "\n",
        "model.compile(optimizer=tf.keras.optimizers.RMSprop(learning_rate=0.001),\n",
        "              loss='categorical_crossentropy',\n",
        "              metrics=['accuracy'])\n",
        "\n",
        "# Implement data augmentation here (using libraries like Keras ImageDataGenerator)\n",
        "train_datagen = ImageDataGenerator(\n",
        "        rescale=1./255,\n",
        "        shear_range=0.2,\n",
        "        rotation_range=30,\n",
        "        horizontal_flip=True)\n",
        "\n",
        "train_generator = train_datagen.flow_from_directory(\n",
        "    \"/kaggle/input/indian-currency-note-images-dataset-2020/Indian currency dataset v1/training\",\n",
        "    target_size=(240,240),\n",
        "    batch_size=32,\n",
        "    shuffle=True,\n",
        "    seed=42,\n",
        "    color_mode=\"rgb\",\n",
        "    class_mode='categorical')\n",
        "\n",
        "test_datagen = ImageDataGenerator(rescale=1./255)\n",
        "test_generator = test_datagen.flow_from_directory(\n",
        "    \"/kaggle/input/indian-currency-note-images-dataset-2020/Indian currency dataset v1/validation\",\n",
        "    target_size=(240,240),\n",
        "    batch_size=32,\n",
        "    shuffle=True,\n",
        "    seed=42,\n",
        "    color_mode=\"rgb\",\n",
        "    class_mode='categorical')\n",
        "model.summary()"
      ],
      "metadata": {
        "execution": {
          "iopub.status.busy": "2024-03-24T09:06:59.284873Z",
          "iopub.execute_input": "2024-03-24T09:06:59.285104Z",
          "iopub.status.idle": "2024-03-24T09:06:59.604991Z",
          "shell.execute_reply.started": "2024-03-24T09:06:59.285083Z",
          "shell.execute_reply": "2024-03-24T09:06:59.603925Z"
        },
        "trusted": true,
        "id": "H4TezLQVGCXj",
        "outputId": "4cb7e33e-832c-4bcb-87c5-b355112b31e6"
      },
      "execution_count": null,
      "outputs": [
        {
          "name": "stdout",
          "text": "Found 3566 images belonging to 8 classes.\nFound 345 images belonging to 8 classes.\n",
          "output_type": "stream"
        },
        {
          "output_type": "display_data",
          "data": {
            "text/plain": "\u001b[1mModel: \"sequential_5\"\u001b[0m\n",
            "text/html": "<pre style=\"white-space:pre;overflow-x:auto;line-height:normal;font-family:Menlo,'DejaVu Sans Mono',consolas,'Courier New',monospace\"><span style=\"font-weight: bold\">Model: \"sequential_5\"</span>\n</pre>\n"
          },
          "metadata": {}
        },
        {
          "output_type": "display_data",
          "data": {
            "text/plain": "┏━━━━━━━━━━━━━━━━━━━━━━━━━━━━━━━━━┳━━━━━━━━━━━━━━━━━━━━━━━━┳━━━━━━━━━━━━━━━┓\n┃\u001b[1m \u001b[0m\u001b[1mLayer (type)                   \u001b[0m\u001b[1m \u001b[0m┃\u001b[1m \u001b[0m\u001b[1mOutput Shape          \u001b[0m\u001b[1m \u001b[0m┃\u001b[1m \u001b[0m\u001b[1m      Param #\u001b[0m\u001b[1m \u001b[0m┃\n┡━━━━━━━━━━━━━━━━━━━━━━━━━━━━━━━━━╇━━━━━━━━━━━━━━━━━━━━━━━━╇━━━━━━━━━━━━━━━┩\n│ conv2d_28 (\u001b[38;5;33mConv2D\u001b[0m)              │ (\u001b[38;5;45mNone\u001b[0m, \u001b[38;5;34m238\u001b[0m, \u001b[38;5;34m238\u001b[0m, \u001b[38;5;34m256\u001b[0m)  │         \u001b[38;5;34m7,168\u001b[0m │\n├─────────────────────────────────┼────────────────────────┼───────────────┤\n│ max_pooling2d_28 (\u001b[38;5;33mMaxPooling2D\u001b[0m) │ (\u001b[38;5;45mNone\u001b[0m, \u001b[38;5;34m119\u001b[0m, \u001b[38;5;34m119\u001b[0m, \u001b[38;5;34m256\u001b[0m)  │             \u001b[38;5;34m0\u001b[0m │\n├─────────────────────────────────┼────────────────────────┼───────────────┤\n│ conv2d_29 (\u001b[38;5;33mConv2D\u001b[0m)              │ (\u001b[38;5;45mNone\u001b[0m, \u001b[38;5;34m117\u001b[0m, \u001b[38;5;34m117\u001b[0m, \u001b[38;5;34m128\u001b[0m)  │       \u001b[38;5;34m295,040\u001b[0m │\n├─────────────────────────────────┼────────────────────────┼───────────────┤\n│ max_pooling2d_29 (\u001b[38;5;33mMaxPooling2D\u001b[0m) │ (\u001b[38;5;45mNone\u001b[0m, \u001b[38;5;34m58\u001b[0m, \u001b[38;5;34m58\u001b[0m, \u001b[38;5;34m128\u001b[0m)    │             \u001b[38;5;34m0\u001b[0m │\n├─────────────────────────────────┼────────────────────────┼───────────────┤\n│ conv2d_30 (\u001b[38;5;33mConv2D\u001b[0m)              │ (\u001b[38;5;45mNone\u001b[0m, \u001b[38;5;34m56\u001b[0m, \u001b[38;5;34m56\u001b[0m, \u001b[38;5;34m64\u001b[0m)     │        \u001b[38;5;34m73,792\u001b[0m │\n├─────────────────────────────────┼────────────────────────┼───────────────┤\n│ max_pooling2d_30 (\u001b[38;5;33mMaxPooling2D\u001b[0m) │ (\u001b[38;5;45mNone\u001b[0m, \u001b[38;5;34m28\u001b[0m, \u001b[38;5;34m28\u001b[0m, \u001b[38;5;34m64\u001b[0m)     │             \u001b[38;5;34m0\u001b[0m │\n├─────────────────────────────────┼────────────────────────┼───────────────┤\n│ conv2d_31 (\u001b[38;5;33mConv2D\u001b[0m)              │ (\u001b[38;5;45mNone\u001b[0m, \u001b[38;5;34m26\u001b[0m, \u001b[38;5;34m26\u001b[0m, \u001b[38;5;34m32\u001b[0m)     │        \u001b[38;5;34m18,464\u001b[0m │\n├─────────────────────────────────┼────────────────────────┼───────────────┤\n│ max_pooling2d_31 (\u001b[38;5;33mMaxPooling2D\u001b[0m) │ (\u001b[38;5;45mNone\u001b[0m, \u001b[38;5;34m13\u001b[0m, \u001b[38;5;34m13\u001b[0m, \u001b[38;5;34m32\u001b[0m)     │             \u001b[38;5;34m0\u001b[0m │\n├─────────────────────────────────┼────────────────────────┼───────────────┤\n│ conv2d_32 (\u001b[38;5;33mConv2D\u001b[0m)              │ (\u001b[38;5;45mNone\u001b[0m, \u001b[38;5;34m11\u001b[0m, \u001b[38;5;34m11\u001b[0m, \u001b[38;5;34m16\u001b[0m)     │         \u001b[38;5;34m4,624\u001b[0m │\n├─────────────────────────────────┼────────────────────────┼───────────────┤\n│ max_pooling2d_32 (\u001b[38;5;33mMaxPooling2D\u001b[0m) │ (\u001b[38;5;45mNone\u001b[0m, \u001b[38;5;34m5\u001b[0m, \u001b[38;5;34m5\u001b[0m, \u001b[38;5;34m16\u001b[0m)       │             \u001b[38;5;34m0\u001b[0m │\n├─────────────────────────────────┼────────────────────────┼───────────────┤\n│ flatten_5 (\u001b[38;5;33mFlatten\u001b[0m)             │ (\u001b[38;5;45mNone\u001b[0m, \u001b[38;5;34m400\u001b[0m)            │             \u001b[38;5;34m0\u001b[0m │\n├─────────────────────────────────┼────────────────────────┼───────────────┤\n│ dense_16 (\u001b[38;5;33mDense\u001b[0m)                │ (\u001b[38;5;45mNone\u001b[0m, \u001b[38;5;34m512\u001b[0m)            │       \u001b[38;5;34m205,312\u001b[0m │\n├─────────────────────────────────┼────────────────────────┼───────────────┤\n│ dense_17 (\u001b[38;5;33mDense\u001b[0m)                │ (\u001b[38;5;45mNone\u001b[0m, \u001b[38;5;34m256\u001b[0m)            │       \u001b[38;5;34m131,328\u001b[0m │\n├─────────────────────────────────┼────────────────────────┼───────────────┤\n│ dense_18 (\u001b[38;5;33mDense\u001b[0m)                │ (\u001b[38;5;45mNone\u001b[0m, \u001b[38;5;34m128\u001b[0m)            │        \u001b[38;5;34m32,896\u001b[0m │\n├─────────────────────────────────┼────────────────────────┼───────────────┤\n│ dense_19 (\u001b[38;5;33mDense\u001b[0m)                │ (\u001b[38;5;45mNone\u001b[0m, \u001b[38;5;34m8\u001b[0m)              │         \u001b[38;5;34m1,032\u001b[0m │\n└─────────────────────────────────┴────────────────────────┴───────────────┘\n",
            "text/html": "<pre style=\"white-space:pre;overflow-x:auto;line-height:normal;font-family:Menlo,'DejaVu Sans Mono',consolas,'Courier New',monospace\">┏━━━━━━━━━━━━━━━━━━━━━━━━━━━━━━━━━┳━━━━━━━━━━━━━━━━━━━━━━━━┳━━━━━━━━━━━━━━━┓\n┃<span style=\"font-weight: bold\"> Layer (type)                    </span>┃<span style=\"font-weight: bold\"> Output Shape           </span>┃<span style=\"font-weight: bold\">       Param # </span>┃\n┡━━━━━━━━━━━━━━━━━━━━━━━━━━━━━━━━━╇━━━━━━━━━━━━━━━━━━━━━━━━╇━━━━━━━━━━━━━━━┩\n│ conv2d_28 (<span style=\"color: #0087ff; text-decoration-color: #0087ff\">Conv2D</span>)              │ (<span style=\"color: #00d7ff; text-decoration-color: #00d7ff\">None</span>, <span style=\"color: #00af00; text-decoration-color: #00af00\">238</span>, <span style=\"color: #00af00; text-decoration-color: #00af00\">238</span>, <span style=\"color: #00af00; text-decoration-color: #00af00\">256</span>)  │         <span style=\"color: #00af00; text-decoration-color: #00af00\">7,168</span> │\n├─────────────────────────────────┼────────────────────────┼───────────────┤\n│ max_pooling2d_28 (<span style=\"color: #0087ff; text-decoration-color: #0087ff\">MaxPooling2D</span>) │ (<span style=\"color: #00d7ff; text-decoration-color: #00d7ff\">None</span>, <span style=\"color: #00af00; text-decoration-color: #00af00\">119</span>, <span style=\"color: #00af00; text-decoration-color: #00af00\">119</span>, <span style=\"color: #00af00; text-decoration-color: #00af00\">256</span>)  │             <span style=\"color: #00af00; text-decoration-color: #00af00\">0</span> │\n├─────────────────────────────────┼────────────────────────┼───────────────┤\n│ conv2d_29 (<span style=\"color: #0087ff; text-decoration-color: #0087ff\">Conv2D</span>)              │ (<span style=\"color: #00d7ff; text-decoration-color: #00d7ff\">None</span>, <span style=\"color: #00af00; text-decoration-color: #00af00\">117</span>, <span style=\"color: #00af00; text-decoration-color: #00af00\">117</span>, <span style=\"color: #00af00; text-decoration-color: #00af00\">128</span>)  │       <span style=\"color: #00af00; text-decoration-color: #00af00\">295,040</span> │\n├─────────────────────────────────┼────────────────────────┼───────────────┤\n│ max_pooling2d_29 (<span style=\"color: #0087ff; text-decoration-color: #0087ff\">MaxPooling2D</span>) │ (<span style=\"color: #00d7ff; text-decoration-color: #00d7ff\">None</span>, <span style=\"color: #00af00; text-decoration-color: #00af00\">58</span>, <span style=\"color: #00af00; text-decoration-color: #00af00\">58</span>, <span style=\"color: #00af00; text-decoration-color: #00af00\">128</span>)    │             <span style=\"color: #00af00; text-decoration-color: #00af00\">0</span> │\n├─────────────────────────────────┼────────────────────────┼───────────────┤\n│ conv2d_30 (<span style=\"color: #0087ff; text-decoration-color: #0087ff\">Conv2D</span>)              │ (<span style=\"color: #00d7ff; text-decoration-color: #00d7ff\">None</span>, <span style=\"color: #00af00; text-decoration-color: #00af00\">56</span>, <span style=\"color: #00af00; text-decoration-color: #00af00\">56</span>, <span style=\"color: #00af00; text-decoration-color: #00af00\">64</span>)     │        <span style=\"color: #00af00; text-decoration-color: #00af00\">73,792</span> │\n├─────────────────────────────────┼────────────────────────┼───────────────┤\n│ max_pooling2d_30 (<span style=\"color: #0087ff; text-decoration-color: #0087ff\">MaxPooling2D</span>) │ (<span style=\"color: #00d7ff; text-decoration-color: #00d7ff\">None</span>, <span style=\"color: #00af00; text-decoration-color: #00af00\">28</span>, <span style=\"color: #00af00; text-decoration-color: #00af00\">28</span>, <span style=\"color: #00af00; text-decoration-color: #00af00\">64</span>)     │             <span style=\"color: #00af00; text-decoration-color: #00af00\">0</span> │\n├─────────────────────────────────┼────────────────────────┼───────────────┤\n│ conv2d_31 (<span style=\"color: #0087ff; text-decoration-color: #0087ff\">Conv2D</span>)              │ (<span style=\"color: #00d7ff; text-decoration-color: #00d7ff\">None</span>, <span style=\"color: #00af00; text-decoration-color: #00af00\">26</span>, <span style=\"color: #00af00; text-decoration-color: #00af00\">26</span>, <span style=\"color: #00af00; text-decoration-color: #00af00\">32</span>)     │        <span style=\"color: #00af00; text-decoration-color: #00af00\">18,464</span> │\n├─────────────────────────────────┼────────────────────────┼───────────────┤\n│ max_pooling2d_31 (<span style=\"color: #0087ff; text-decoration-color: #0087ff\">MaxPooling2D</span>) │ (<span style=\"color: #00d7ff; text-decoration-color: #00d7ff\">None</span>, <span style=\"color: #00af00; text-decoration-color: #00af00\">13</span>, <span style=\"color: #00af00; text-decoration-color: #00af00\">13</span>, <span style=\"color: #00af00; text-decoration-color: #00af00\">32</span>)     │             <span style=\"color: #00af00; text-decoration-color: #00af00\">0</span> │\n├─────────────────────────────────┼────────────────────────┼───────────────┤\n│ conv2d_32 (<span style=\"color: #0087ff; text-decoration-color: #0087ff\">Conv2D</span>)              │ (<span style=\"color: #00d7ff; text-decoration-color: #00d7ff\">None</span>, <span style=\"color: #00af00; text-decoration-color: #00af00\">11</span>, <span style=\"color: #00af00; text-decoration-color: #00af00\">11</span>, <span style=\"color: #00af00; text-decoration-color: #00af00\">16</span>)     │         <span style=\"color: #00af00; text-decoration-color: #00af00\">4,624</span> │\n├─────────────────────────────────┼────────────────────────┼───────────────┤\n│ max_pooling2d_32 (<span style=\"color: #0087ff; text-decoration-color: #0087ff\">MaxPooling2D</span>) │ (<span style=\"color: #00d7ff; text-decoration-color: #00d7ff\">None</span>, <span style=\"color: #00af00; text-decoration-color: #00af00\">5</span>, <span style=\"color: #00af00; text-decoration-color: #00af00\">5</span>, <span style=\"color: #00af00; text-decoration-color: #00af00\">16</span>)       │             <span style=\"color: #00af00; text-decoration-color: #00af00\">0</span> │\n├─────────────────────────────────┼────────────────────────┼───────────────┤\n│ flatten_5 (<span style=\"color: #0087ff; text-decoration-color: #0087ff\">Flatten</span>)             │ (<span style=\"color: #00d7ff; text-decoration-color: #00d7ff\">None</span>, <span style=\"color: #00af00; text-decoration-color: #00af00\">400</span>)            │             <span style=\"color: #00af00; text-decoration-color: #00af00\">0</span> │\n├─────────────────────────────────┼────────────────────────┼───────────────┤\n│ dense_16 (<span style=\"color: #0087ff; text-decoration-color: #0087ff\">Dense</span>)                │ (<span style=\"color: #00d7ff; text-decoration-color: #00d7ff\">None</span>, <span style=\"color: #00af00; text-decoration-color: #00af00\">512</span>)            │       <span style=\"color: #00af00; text-decoration-color: #00af00\">205,312</span> │\n├─────────────────────────────────┼────────────────────────┼───────────────┤\n│ dense_17 (<span style=\"color: #0087ff; text-decoration-color: #0087ff\">Dense</span>)                │ (<span style=\"color: #00d7ff; text-decoration-color: #00d7ff\">None</span>, <span style=\"color: #00af00; text-decoration-color: #00af00\">256</span>)            │       <span style=\"color: #00af00; text-decoration-color: #00af00\">131,328</span> │\n├─────────────────────────────────┼────────────────────────┼───────────────┤\n│ dense_18 (<span style=\"color: #0087ff; text-decoration-color: #0087ff\">Dense</span>)                │ (<span style=\"color: #00d7ff; text-decoration-color: #00d7ff\">None</span>, <span style=\"color: #00af00; text-decoration-color: #00af00\">128</span>)            │        <span style=\"color: #00af00; text-decoration-color: #00af00\">32,896</span> │\n├─────────────────────────────────┼────────────────────────┼───────────────┤\n│ dense_19 (<span style=\"color: #0087ff; text-decoration-color: #0087ff\">Dense</span>)                │ (<span style=\"color: #00d7ff; text-decoration-color: #00d7ff\">None</span>, <span style=\"color: #00af00; text-decoration-color: #00af00\">8</span>)              │         <span style=\"color: #00af00; text-decoration-color: #00af00\">1,032</span> │\n└─────────────────────────────────┴────────────────────────┴───────────────┘\n</pre>\n"
          },
          "metadata": {}
        },
        {
          "output_type": "display_data",
          "data": {
            "text/plain": "\u001b[1m Total params: \u001b[0m\u001b[38;5;34m769,656\u001b[0m (2.94 MB)\n",
            "text/html": "<pre style=\"white-space:pre;overflow-x:auto;line-height:normal;font-family:Menlo,'DejaVu Sans Mono',consolas,'Courier New',monospace\"><span style=\"font-weight: bold\"> Total params: </span><span style=\"color: #00af00; text-decoration-color: #00af00\">769,656</span> (2.94 MB)\n</pre>\n"
          },
          "metadata": {}
        },
        {
          "output_type": "display_data",
          "data": {
            "text/plain": "\u001b[1m Trainable params: \u001b[0m\u001b[38;5;34m769,656\u001b[0m (2.94 MB)\n",
            "text/html": "<pre style=\"white-space:pre;overflow-x:auto;line-height:normal;font-family:Menlo,'DejaVu Sans Mono',consolas,'Courier New',monospace\"><span style=\"font-weight: bold\"> Trainable params: </span><span style=\"color: #00af00; text-decoration-color: #00af00\">769,656</span> (2.94 MB)\n</pre>\n"
          },
          "metadata": {}
        },
        {
          "output_type": "display_data",
          "data": {
            "text/plain": "\u001b[1m Non-trainable params: \u001b[0m\u001b[38;5;34m0\u001b[0m (0.00 B)\n",
            "text/html": "<pre style=\"white-space:pre;overflow-x:auto;line-height:normal;font-family:Menlo,'DejaVu Sans Mono',consolas,'Courier New',monospace\"><span style=\"font-weight: bold\"> Non-trainable params: </span><span style=\"color: #00af00; text-decoration-color: #00af00\">0</span> (0.00 B)\n</pre>\n"
          },
          "metadata": {}
        }
      ]
    },
    {
      "cell_type": "code",
      "source": [
        "epochs = 75\n",
        "history = model.fit(x = train_generator,validation_data=test_generator ,batch_size=32,verbose=1, epochs=epochs)"
      ],
      "metadata": {
        "execution": {
          "iopub.status.busy": "2024-03-24T09:06:59.607229Z",
          "iopub.execute_input": "2024-03-24T09:06:59.607577Z",
          "iopub.status.idle": "2024-03-24T12:24:34.474999Z",
          "shell.execute_reply.started": "2024-03-24T09:06:59.607548Z",
          "shell.execute_reply": "2024-03-24T12:24:34.473895Z"
        },
        "trusted": true,
        "id": "1i3tZtiqGCXq",
        "outputId": "234a692c-50c6-44c2-bab0-96c915e09b59"
      },
      "execution_count": null,
      "outputs": [
        {
          "name": "stdout",
          "text": "Epoch 1/75\n",
          "output_type": "stream"
        },
        {
          "name": "stderr",
          "text": "W0000 00:00:1711271271.492084      90 graph_launch.cc:671] Fallback to op-by-op mode because memset node breaks graph update\n",
          "output_type": "stream"
        },
        {
          "name": "stdout",
          "text": "\u001b[1m112/112\u001b[0m \u001b[32m━━━━━━━━━━━━━━━━━━━━\u001b[0m\u001b[37m\u001b[0m \u001b[1m0s\u001b[0m 1s/step - accuracy: 0.1339 - loss: 2.1061",
          "output_type": "stream"
        },
        {
          "name": "stderr",
          "text": "W0000 00:00:1711271432.595466      88 graph_launch.cc:671] Fallback to op-by-op mode because memset node breaks graph update\n",
          "output_type": "stream"
        },
        {
          "name": "stdout",
          "text": "\u001b[1m112/112\u001b[0m \u001b[32m━━━━━━━━━━━━━━━━━━━━\u001b[0m\u001b[37m\u001b[0m \u001b[1m235s\u001b[0m 2s/step - accuracy: 0.1339 - loss: 2.1060 - val_accuracy: 0.1304 - val_loss: 2.0737\nEpoch 2/75\n\u001b[1m112/112\u001b[0m \u001b[32m━━━━━━━━━━━━━━━━━━━━\u001b[0m\u001b[37m\u001b[0m \u001b[1m154s\u001b[0m 1s/step - accuracy: 0.1566 - loss: 2.0941 - val_accuracy: 0.1333 - val_loss: 2.1648\nEpoch 3/75\n\u001b[1m112/112\u001b[0m \u001b[32m━━━━━━━━━━━━━━━━━━━━\u001b[0m\u001b[37m\u001b[0m \u001b[1m154s\u001b[0m 1s/step - accuracy: 0.2308 - loss: 1.9418 - val_accuracy: 0.3884 - val_loss: 1.7602\nEpoch 4/75\n\u001b[1m112/112\u001b[0m \u001b[32m━━━━━━━━━━━━━━━━━━━━\u001b[0m\u001b[37m\u001b[0m \u001b[1m158s\u001b[0m 1s/step - accuracy: 0.3290 - loss: 1.7778 - val_accuracy: 0.3768 - val_loss: 1.6185\nEpoch 5/75\n\u001b[1m112/112\u001b[0m \u001b[32m━━━━━━━━━━━━━━━━━━━━\u001b[0m\u001b[37m\u001b[0m \u001b[1m157s\u001b[0m 1s/step - accuracy: 0.3902 - loss: 1.6780 - val_accuracy: 0.3246 - val_loss: 1.6619\nEpoch 6/75\n\u001b[1m112/112\u001b[0m \u001b[32m━━━━━━━━━━━━━━━━━━━━\u001b[0m\u001b[37m\u001b[0m \u001b[1m156s\u001b[0m 1s/step - accuracy: 0.3950 - loss: 1.6132 - val_accuracy: 0.4319 - val_loss: 1.4831\nEpoch 7/75\n\u001b[1m112/112\u001b[0m \u001b[32m━━━━━━━━━━━━━━━━━━━━\u001b[0m\u001b[37m\u001b[0m \u001b[1m160s\u001b[0m 1s/step - accuracy: 0.4506 - loss: 1.4912 - val_accuracy: 0.4754 - val_loss: 1.3166\nEpoch 8/75\n\u001b[1m112/112\u001b[0m \u001b[32m━━━━━━━━━━━━━━━━━━━━\u001b[0m\u001b[37m\u001b[0m \u001b[1m160s\u001b[0m 1s/step - accuracy: 0.4807 - loss: 1.4523 - val_accuracy: 0.5188 - val_loss: 1.2981\nEpoch 9/75\n\u001b[1m112/112\u001b[0m \u001b[32m━━━━━━━━━━━━━━━━━━━━\u001b[0m\u001b[37m\u001b[0m \u001b[1m155s\u001b[0m 1s/step - accuracy: 0.5265 - loss: 1.2917 - val_accuracy: 0.5304 - val_loss: 1.1641\nEpoch 10/75\n\u001b[1m112/112\u001b[0m \u001b[32m━━━━━━━━━━━━━━━━━━━━\u001b[0m\u001b[37m\u001b[0m \u001b[1m155s\u001b[0m 1s/step - accuracy: 0.5391 - loss: 1.2945 - val_accuracy: 0.5304 - val_loss: 1.1930\nEpoch 11/75\n\u001b[1m112/112\u001b[0m \u001b[32m━━━━━━━━━━━━━━━━━━━━\u001b[0m\u001b[37m\u001b[0m \u001b[1m203s\u001b[0m 1s/step - accuracy: 0.5686 - loss: 1.1781 - val_accuracy: 0.5681 - val_loss: 1.1202\nEpoch 12/75\n\u001b[1m112/112\u001b[0m \u001b[32m━━━━━━━━━━━━━━━━━━━━\u001b[0m\u001b[37m\u001b[0m \u001b[1m155s\u001b[0m 1s/step - accuracy: 0.6025 - loss: 1.0824 - val_accuracy: 0.6203 - val_loss: 1.0644\nEpoch 13/75\n\u001b[1m112/112\u001b[0m \u001b[32m━━━━━━━━━━━━━━━━━━━━\u001b[0m\u001b[37m\u001b[0m \u001b[1m155s\u001b[0m 1s/step - accuracy: 0.6483 - loss: 0.9856 - val_accuracy: 0.4754 - val_loss: 1.7542\nEpoch 14/75\n\u001b[1m112/112\u001b[0m \u001b[32m━━━━━━━━━━━━━━━━━━━━\u001b[0m\u001b[37m\u001b[0m \u001b[1m154s\u001b[0m 1s/step - accuracy: 0.6575 - loss: 0.9819 - val_accuracy: 0.7246 - val_loss: 0.7988\nEpoch 15/75\n\u001b[1m112/112\u001b[0m \u001b[32m━━━━━━━━━━━━━━━━━━━━\u001b[0m\u001b[37m\u001b[0m \u001b[1m154s\u001b[0m 1s/step - accuracy: 0.6863 - loss: 0.8932 - val_accuracy: 0.7188 - val_loss: 0.8709\nEpoch 16/75\n\u001b[1m112/112\u001b[0m \u001b[32m━━━━━━━━━━━━━━━━━━━━\u001b[0m\u001b[37m\u001b[0m \u001b[1m155s\u001b[0m 1s/step - accuracy: 0.7086 - loss: 0.8257 - val_accuracy: 0.7507 - val_loss: 0.7341\nEpoch 17/75\n\u001b[1m112/112\u001b[0m \u001b[32m━━━━━━━━━━━━━━━━━━━━\u001b[0m\u001b[37m\u001b[0m \u001b[1m152s\u001b[0m 1s/step - accuracy: 0.7401 - loss: 0.7686 - val_accuracy: 0.7449 - val_loss: 0.7110\nEpoch 18/75\n\u001b[1m112/112\u001b[0m \u001b[32m━━━━━━━━━━━━━━━━━━━━\u001b[0m\u001b[37m\u001b[0m \u001b[1m156s\u001b[0m 1s/step - accuracy: 0.7490 - loss: 0.7219 - val_accuracy: 0.6667 - val_loss: 0.9532\nEpoch 19/75\n\u001b[1m112/112\u001b[0m \u001b[32m━━━━━━━━━━━━━━━━━━━━\u001b[0m\u001b[37m\u001b[0m \u001b[1m155s\u001b[0m 1s/step - accuracy: 0.7524 - loss: 0.7317 - val_accuracy: 0.7420 - val_loss: 0.7132\nEpoch 20/75\n\u001b[1m112/112\u001b[0m \u001b[32m━━━━━━━━━━━━━━━━━━━━\u001b[0m\u001b[37m\u001b[0m \u001b[1m155s\u001b[0m 1s/step - accuracy: 0.7641 - loss: 0.6655 - val_accuracy: 0.6667 - val_loss: 1.1653\nEpoch 21/75\n\u001b[1m112/112\u001b[0m \u001b[32m━━━━━━━━━━━━━━━━━━━━\u001b[0m\u001b[37m\u001b[0m \u001b[1m154s\u001b[0m 1s/step - accuracy: 0.7684 - loss: 0.6843 - val_accuracy: 0.7449 - val_loss: 0.8532\nEpoch 22/75\n\u001b[1m112/112\u001b[0m \u001b[32m━━━━━━━━━━━━━━━━━━━━\u001b[0m\u001b[37m\u001b[0m \u001b[1m154s\u001b[0m 1s/step - accuracy: 0.7815 - loss: 0.6296 - val_accuracy: 0.7536 - val_loss: 0.8343\nEpoch 23/75\n\u001b[1m112/112\u001b[0m \u001b[32m━━━━━━━━━━━━━━━━━━━━\u001b[0m\u001b[37m\u001b[0m \u001b[1m154s\u001b[0m 1s/step - accuracy: 0.7931 - loss: 0.6072 - val_accuracy: 0.6609 - val_loss: 1.1417\nEpoch 24/75\n\u001b[1m112/112\u001b[0m \u001b[32m━━━━━━━━━━━━━━━━━━━━\u001b[0m\u001b[37m\u001b[0m \u001b[1m154s\u001b[0m 1s/step - accuracy: 0.8145 - loss: 0.5294 - val_accuracy: 0.7942 - val_loss: 0.6995\nEpoch 25/75\n\u001b[1m112/112\u001b[0m \u001b[32m━━━━━━━━━━━━━━━━━━━━\u001b[0m\u001b[37m\u001b[0m \u001b[1m151s\u001b[0m 1s/step - accuracy: 0.8302 - loss: 0.5105 - val_accuracy: 0.7130 - val_loss: 1.0375\nEpoch 26/75\n\u001b[1m112/112\u001b[0m \u001b[32m━━━━━━━━━━━━━━━━━━━━\u001b[0m\u001b[37m\u001b[0m \u001b[1m153s\u001b[0m 1s/step - accuracy: 0.8275 - loss: 0.5372 - val_accuracy: 0.7768 - val_loss: 0.7088\nEpoch 27/75\n\u001b[1m112/112\u001b[0m \u001b[32m━━━━━━━━━━━━━━━━━━━━\u001b[0m\u001b[37m\u001b[0m \u001b[1m154s\u001b[0m 1s/step - accuracy: 0.8530 - loss: 0.4676 - val_accuracy: 0.8058 - val_loss: 0.6032\nEpoch 28/75\n\u001b[1m112/112\u001b[0m \u001b[32m━━━━━━━━━━━━━━━━━━━━\u001b[0m\u001b[37m\u001b[0m \u001b[1m154s\u001b[0m 1s/step - accuracy: 0.8270 - loss: 0.4915 - val_accuracy: 0.7130 - val_loss: 1.1047\nEpoch 29/75\n\u001b[1m112/112\u001b[0m \u001b[32m━━━━━━━━━━━━━━━━━━━━\u001b[0m\u001b[37m\u001b[0m \u001b[1m158s\u001b[0m 1s/step - accuracy: 0.8436 - loss: 0.4854 - val_accuracy: 0.7130 - val_loss: 1.1962\nEpoch 30/75\n\u001b[1m112/112\u001b[0m \u001b[32m━━━━━━━━━━━━━━━━━━━━\u001b[0m\u001b[37m\u001b[0m \u001b[1m153s\u001b[0m 1s/step - accuracy: 0.8512 - loss: 0.4469 - val_accuracy: 0.7913 - val_loss: 0.7331\nEpoch 31/75\n\u001b[1m112/112\u001b[0m \u001b[32m━━━━━━━━━━━━━━━━━━━━\u001b[0m\u001b[37m\u001b[0m \u001b[1m153s\u001b[0m 1s/step - accuracy: 0.8631 - loss: 0.4059 - val_accuracy: 0.8000 - val_loss: 0.6381\nEpoch 32/75\n\u001b[1m112/112\u001b[0m \u001b[32m━━━━━━━━━━━━━━━━━━━━\u001b[0m\u001b[37m\u001b[0m \u001b[1m159s\u001b[0m 1s/step - accuracy: 0.8515 - loss: 0.4223 - val_accuracy: 0.8174 - val_loss: 0.6893\nEpoch 33/75\n\u001b[1m112/112\u001b[0m \u001b[32m━━━━━━━━━━━━━━━━━━━━\u001b[0m\u001b[37m\u001b[0m \u001b[1m153s\u001b[0m 1s/step - accuracy: 0.8754 - loss: 0.3828 - val_accuracy: 0.8261 - val_loss: 0.7997\nEpoch 34/75\n\u001b[1m112/112\u001b[0m \u001b[32m━━━━━━━━━━━━━━━━━━━━\u001b[0m\u001b[37m\u001b[0m \u001b[1m155s\u001b[0m 1s/step - accuracy: 0.8746 - loss: 0.4145 - val_accuracy: 0.8029 - val_loss: 0.5855\nEpoch 35/75\n\u001b[1m112/112\u001b[0m \u001b[32m━━━━━━━━━━━━━━━━━━━━\u001b[0m\u001b[37m\u001b[0m \u001b[1m157s\u001b[0m 1s/step - accuracy: 0.8944 - loss: 0.3395 - val_accuracy: 0.8319 - val_loss: 0.5966\nEpoch 36/75\n\u001b[1m112/112\u001b[0m \u001b[32m━━━━━━━━━━━━━━━━━━━━\u001b[0m\u001b[37m\u001b[0m \u001b[1m153s\u001b[0m 1s/step - accuracy: 0.8690 - loss: 0.3952 - val_accuracy: 0.8464 - val_loss: 0.6120\nEpoch 37/75\n\u001b[1m112/112\u001b[0m \u001b[32m━━━━━━━━━━━━━━━━━━━━\u001b[0m\u001b[37m\u001b[0m \u001b[1m152s\u001b[0m 1s/step - accuracy: 0.8736 - loss: 0.4076 - val_accuracy: 0.8551 - val_loss: 0.6507\nEpoch 38/75\n\u001b[1m112/112\u001b[0m \u001b[32m━━━━━━━━━━━━━━━━━━━━\u001b[0m\u001b[37m\u001b[0m \u001b[1m154s\u001b[0m 1s/step - accuracy: 0.8793 - loss: 0.3610 - val_accuracy: 0.8435 - val_loss: 0.6094\nEpoch 39/75\n\u001b[1m112/112\u001b[0m \u001b[32m━━━━━━━━━━━━━━━━━━━━\u001b[0m\u001b[37m\u001b[0m \u001b[1m201s\u001b[0m 1s/step - accuracy: 0.8993 - loss: 0.3134 - val_accuracy: 0.8580 - val_loss: 0.6320\nEpoch 40/75\n\u001b[1m112/112\u001b[0m \u001b[32m━━━━━━━━━━━━━━━━━━━━\u001b[0m\u001b[37m\u001b[0m \u001b[1m154s\u001b[0m 1s/step - accuracy: 0.8856 - loss: 0.3605 - val_accuracy: 0.8696 - val_loss: 0.5325\nEpoch 41/75\n\u001b[1m112/112\u001b[0m \u001b[32m━━━━━━━━━━━━━━━━━━━━\u001b[0m\u001b[37m\u001b[0m \u001b[1m154s\u001b[0m 1s/step - accuracy: 0.8867 - loss: 0.3473 - val_accuracy: 0.8493 - val_loss: 0.6738\nEpoch 42/75\n\u001b[1m112/112\u001b[0m \u001b[32m━━━━━━━━━━━━━━━━━━━━\u001b[0m\u001b[37m\u001b[0m \u001b[1m156s\u001b[0m 1s/step - accuracy: 0.8966 - loss: 0.3528 - val_accuracy: 0.8319 - val_loss: 0.8732\nEpoch 43/75\n\u001b[1m112/112\u001b[0m \u001b[32m━━━━━━━━━━━━━━━━━━━━\u001b[0m\u001b[37m\u001b[0m \u001b[1m156s\u001b[0m 1s/step - accuracy: 0.9102 - loss: 0.3270 - val_accuracy: 0.8812 - val_loss: 0.5631\nEpoch 44/75\n\u001b[1m112/112\u001b[0m \u001b[32m━━━━━━━━━━━━━━━━━━━━\u001b[0m\u001b[37m\u001b[0m \u001b[1m153s\u001b[0m 1s/step - accuracy: 0.9060 - loss: 0.3148 - val_accuracy: 0.8261 - val_loss: 0.8772\nEpoch 45/75\n\u001b[1m112/112\u001b[0m \u001b[32m━━━━━━━━━━━━━━━━━━━━\u001b[0m\u001b[37m\u001b[0m \u001b[1m154s\u001b[0m 1s/step - accuracy: 0.8970 - loss: 0.3309 - val_accuracy: 0.8580 - val_loss: 0.6512\nEpoch 46/75\n\u001b[1m112/112\u001b[0m \u001b[32m━━━━━━━━━━━━━━━━━━━━\u001b[0m\u001b[37m\u001b[0m \u001b[1m154s\u001b[0m 1s/step - accuracy: 0.8936 - loss: 0.3344 - val_accuracy: 0.8551 - val_loss: 0.7683\nEpoch 47/75\n\u001b[1m112/112\u001b[0m \u001b[32m━━━━━━━━━━━━━━━━━━━━\u001b[0m\u001b[37m\u001b[0m \u001b[1m154s\u001b[0m 1s/step - accuracy: 0.8964 - loss: 0.3223 - val_accuracy: 0.8145 - val_loss: 1.0900\nEpoch 48/75\n\u001b[1m112/112\u001b[0m \u001b[32m━━━━━━━━━━━━━━━━━━━━\u001b[0m\u001b[37m\u001b[0m \u001b[1m154s\u001b[0m 1s/step - accuracy: 0.8987 - loss: 0.3419 - val_accuracy: 0.8609 - val_loss: 0.6849\nEpoch 49/75\n\u001b[1m112/112\u001b[0m \u001b[32m━━━━━━━━━━━━━━━━━━━━\u001b[0m\u001b[37m\u001b[0m \u001b[1m202s\u001b[0m 1s/step - accuracy: 0.8922 - loss: 0.3533 - val_accuracy: 0.8435 - val_loss: 0.7710\nEpoch 50/75\n\u001b[1m112/112\u001b[0m \u001b[32m━━━━━━━━━━━━━━━━━━━━\u001b[0m\u001b[37m\u001b[0m \u001b[1m154s\u001b[0m 1s/step - accuracy: 0.8937 - loss: 0.3494 - val_accuracy: 0.7391 - val_loss: 1.1447\nEpoch 51/75\n\u001b[1m112/112\u001b[0m \u001b[32m━━━━━━━━━━━━━━━━━━━━\u001b[0m\u001b[37m\u001b[0m \u001b[1m158s\u001b[0m 1s/step - accuracy: 0.9088 - loss: 0.3353 - val_accuracy: 0.8000 - val_loss: 0.9298\nEpoch 52/75\n\u001b[1m112/112\u001b[0m \u001b[32m━━━━━━━━━━━━━━━━━━━━\u001b[0m\u001b[37m\u001b[0m \u001b[1m152s\u001b[0m 1s/step - accuracy: 0.9030 - loss: 0.3776 - val_accuracy: 0.8754 - val_loss: 0.5714\nEpoch 53/75\n\u001b[1m112/112\u001b[0m \u001b[32m━━━━━━━━━━━━━━━━━━━━\u001b[0m\u001b[37m\u001b[0m \u001b[1m153s\u001b[0m 1s/step - accuracy: 0.8940 - loss: 0.3939 - val_accuracy: 0.8319 - val_loss: 0.7600\nEpoch 54/75\n\u001b[1m112/112\u001b[0m \u001b[32m━━━━━━━━━━━━━━━━━━━━\u001b[0m\u001b[37m\u001b[0m \u001b[1m154s\u001b[0m 1s/step - accuracy: 0.9150 - loss: 0.2775 - val_accuracy: 0.8551 - val_loss: 0.7142\nEpoch 55/75\n\u001b[1m112/112\u001b[0m \u001b[32m━━━━━━━━━━━━━━━━━━━━\u001b[0m\u001b[37m\u001b[0m \u001b[1m153s\u001b[0m 1s/step - accuracy: 0.9157 - loss: 0.3053 - val_accuracy: 0.8464 - val_loss: 0.6510\nEpoch 56/75\n\u001b[1m112/112\u001b[0m \u001b[32m━━━━━━━━━━━━━━━━━━━━\u001b[0m\u001b[37m\u001b[0m \u001b[1m157s\u001b[0m 1s/step - accuracy: 0.9181 - loss: 0.2582 - val_accuracy: 0.8725 - val_loss: 0.7616\nEpoch 57/75\n\u001b[1m112/112\u001b[0m \u001b[32m━━━━━━━━━━━━━━━━━━━━\u001b[0m\u001b[37m\u001b[0m \u001b[1m154s\u001b[0m 1s/step - accuracy: 0.9128 - loss: 0.2908 - val_accuracy: 0.8435 - val_loss: 0.7855\nEpoch 58/75\n\u001b[1m112/112\u001b[0m \u001b[32m━━━━━━━━━━━━━━━━━━━━\u001b[0m\u001b[37m\u001b[0m \u001b[1m156s\u001b[0m 1s/step - accuracy: 0.9220 - loss: 0.2981 - val_accuracy: 0.8725 - val_loss: 0.8180\nEpoch 59/75\n\u001b[1m112/112\u001b[0m \u001b[32m━━━━━━━━━━━━━━━━━━━━\u001b[0m\u001b[37m\u001b[0m \u001b[1m160s\u001b[0m 1s/step - accuracy: 0.9190 - loss: 0.2608 - val_accuracy: 0.8406 - val_loss: 0.9451\nEpoch 60/75\n\u001b[1m112/112\u001b[0m \u001b[32m━━━━━━━━━━━━━━━━━━━━\u001b[0m\u001b[37m\u001b[0m \u001b[1m152s\u001b[0m 1s/step - accuracy: 0.9085 - loss: 0.3033 - val_accuracy: 0.8203 - val_loss: 0.9843\nEpoch 61/75\n\u001b[1m112/112\u001b[0m \u001b[32m━━━━━━━━━━━━━━━━━━━━\u001b[0m\u001b[37m\u001b[0m \u001b[1m153s\u001b[0m 1s/step - accuracy: 0.9226 - loss: 0.2874 - val_accuracy: 0.8551 - val_loss: 0.5287\nEpoch 62/75\n\u001b[1m112/112\u001b[0m \u001b[32m━━━━━━━━━━━━━━━━━━━━\u001b[0m\u001b[37m\u001b[0m \u001b[1m154s\u001b[0m 1s/step - accuracy: 0.9160 - loss: 0.2976 - val_accuracy: 0.8870 - val_loss: 0.6470\nEpoch 63/75\n\u001b[1m112/112\u001b[0m \u001b[32m━━━━━━━━━━━━━━━━━━━━\u001b[0m\u001b[37m\u001b[0m \u001b[1m158s\u001b[0m 1s/step - accuracy: 0.9175 - loss: 0.2596 - val_accuracy: 0.8348 - val_loss: 0.7717\nEpoch 64/75\n\u001b[1m112/112\u001b[0m \u001b[32m━━━━━━━━━━━━━━━━━━━━\u001b[0m\u001b[37m\u001b[0m \u001b[1m153s\u001b[0m 1s/step - accuracy: 0.9200 - loss: 0.2735 - val_accuracy: 0.8348 - val_loss: 0.8263\nEpoch 65/75\n\u001b[1m112/112\u001b[0m \u001b[32m━━━━━━━━━━━━━━━━━━━━\u001b[0m\u001b[37m\u001b[0m \u001b[1m156s\u001b[0m 1s/step - accuracy: 0.9208 - loss: 0.2720 - val_accuracy: 0.7826 - val_loss: 1.0357\nEpoch 66/75\n\u001b[1m112/112\u001b[0m \u001b[32m━━━━━━━━━━━━━━━━━━━━\u001b[0m\u001b[37m\u001b[0m \u001b[1m153s\u001b[0m 1s/step - accuracy: 0.9049 - loss: 0.3132 - val_accuracy: 0.8696 - val_loss: 0.7408\nEpoch 67/75\n\u001b[1m112/112\u001b[0m \u001b[32m━━━━━━━━━━━━━━━━━━━━\u001b[0m\u001b[37m\u001b[0m \u001b[1m157s\u001b[0m 1s/step - accuracy: 0.9306 - loss: 0.2505 - val_accuracy: 0.8638 - val_loss: 0.5571\nEpoch 68/75\n\u001b[1m112/112\u001b[0m \u001b[32m━━━━━━━━━━━━━━━━━━━━\u001b[0m\u001b[37m\u001b[0m \u001b[1m151s\u001b[0m 1s/step - accuracy: 0.9257 - loss: 0.2515 - val_accuracy: 0.8232 - val_loss: 0.9549\nEpoch 69/75\n\u001b[1m112/112\u001b[0m \u001b[32m━━━━━━━━━━━━━━━━━━━━\u001b[0m\u001b[37m\u001b[0m \u001b[1m151s\u001b[0m 1s/step - accuracy: 0.9158 - loss: 0.3004 - val_accuracy: 0.8348 - val_loss: 0.6435\nEpoch 70/75\n\u001b[1m112/112\u001b[0m \u001b[32m━━━━━━━━━━━━━━━━━━━━\u001b[0m\u001b[37m\u001b[0m \u001b[1m154s\u001b[0m 1s/step - accuracy: 0.9251 - loss: 0.2564 - val_accuracy: 0.8464 - val_loss: 0.8352\nEpoch 71/75\n\u001b[1m112/112\u001b[0m \u001b[32m━━━━━━━━━━━━━━━━━━━━\u001b[0m\u001b[37m\u001b[0m \u001b[1m200s\u001b[0m 1s/step - accuracy: 0.9210 - loss: 0.2502 - val_accuracy: 0.8580 - val_loss: 0.8911\nEpoch 72/75\n\u001b[1m112/112\u001b[0m \u001b[32m━━━━━━━━━━━━━━━━━━━━\u001b[0m\u001b[37m\u001b[0m \u001b[1m153s\u001b[0m 1s/step - accuracy: 0.9346 - loss: 0.2335 - val_accuracy: 0.8145 - val_loss: 0.7649\nEpoch 73/75\n\u001b[1m112/112\u001b[0m \u001b[32m━━━━━━━━━━━━━━━━━━━━\u001b[0m\u001b[37m\u001b[0m \u001b[1m152s\u001b[0m 1s/step - accuracy: 0.9150 - loss: 0.3469 - val_accuracy: 0.8638 - val_loss: 0.7104\nEpoch 74/75\n\u001b[1m112/112\u001b[0m \u001b[32m━━━━━━━━━━━━━━━━━━━━\u001b[0m\u001b[37m\u001b[0m \u001b[1m153s\u001b[0m 1s/step - accuracy: 0.9201 - loss: 0.2601 - val_accuracy: 0.8638 - val_loss: 0.5131\nEpoch 75/75\n\u001b[1m112/112\u001b[0m \u001b[32m━━━━━━━━━━━━━━━━━━━━\u001b[0m\u001b[37m\u001b[0m \u001b[1m152s\u001b[0m 1s/step - accuracy: 0.9374 - loss: 0.2331 - val_accuracy: 0.8928 - val_loss: 0.6331\n",
          "output_type": "stream"
        }
      ]
    },
    {
      "cell_type": "code",
      "source": [
        "model.evaluate(test_generator)"
      ],
      "metadata": {
        "execution": {
          "iopub.status.busy": "2024-03-24T12:24:34.476578Z",
          "iopub.execute_input": "2024-03-24T12:24:34.476971Z",
          "iopub.status.idle": "2024-03-24T12:24:45.600528Z",
          "shell.execute_reply.started": "2024-03-24T12:24:34.476934Z",
          "shell.execute_reply": "2024-03-24T12:24:45.599557Z"
        },
        "trusted": true,
        "id": "vLqQ7ePwGCXs",
        "outputId": "644e966a-9362-4714-ba77-92e1df55c510"
      },
      "execution_count": null,
      "outputs": [
        {
          "name": "stdout",
          "text": "\u001b[1m11/11\u001b[0m \u001b[32m━━━━━━━━━━━━━━━━━━━━\u001b[0m\u001b[37m\u001b[0m \u001b[1m10s\u001b[0m 899ms/step - accuracy: 0.8686 - loss: 0.6023\n",
          "output_type": "stream"
        },
        {
          "execution_count": 29,
          "output_type": "execute_result",
          "data": {
            "text/plain": "[0.6256293654441833, 0.8927536010742188]"
          },
          "metadata": {}
        }
      ]
    },
    {
      "cell_type": "code",
      "source": [
        "import os\n",
        "from tensorflow.keras.preprocessing.image import load_img, img_to_array  # Replace with your image loading library if using different\n",
        "\n",
        "# Define the path to your folder containing images\n",
        "image_folder = \"/kaggle/input/indian-currency-note-images-dataset-2020/Indian currency dataset v1/test\"\n",
        "\n",
        "# Load your trained model\n",
        "model = tf.keras.models.load_model(\"/kaggle/working/updatedmodel.h5\")  # Replace tf.keras with your model loading method\n",
        "\n",
        "# Define the target image size expected by your model (height, width)\n",
        "img_height, img_width = (240, 240)  # Update these values as per your model\n",
        "\n",
        "# List to store predictions\n",
        "predictions = []\n",
        "\n",
        "# Loop through each image in the folder\n",
        "for filename in os.listdir(image_folder):\n",
        "    # Check if it's an image file\n",
        "    if filename.endswith(\".jpg\") or filename.endswith(\".png\"):  # Add other extensions if needed\n",
        "\n",
        "        # Load the image\n",
        "        img = load_img(os.path.join(image_folder, filename), target_size=(img_height, img_width))\n",
        "\n",
        "        # Preprocess the image for prediction (convert to array, normalize etc.)\n",
        "        img_array = img_to_array(img)\n",
        "        img_array = img_array / 255.0  # Assuming normalization by 255, adjust if needed\n",
        "        img_array = np.expand_dims(img_array, axis=0)  # Add extra dimension for batch prediction\n",
        "\n",
        "        # Make prediction using the model\n",
        "        prediction = model.predict(img_array)\n",
        "\n",
        "        # Process the prediction (get class label, probability etc.)\n",
        "        # This part depends on your model's output format\n",
        "        predicted_class = np.argmax(prediction[0])  # Assuming classification model\n",
        "        predicted_prob = prediction[0][predicted_class] * 100  # Assuming probability in output\n",
        "\n",
        "        # Store prediction results (filename, class, probability etc.)\n",
        "        predictions.append((filename, predicted_class, predicted_prob))\n",
        "\n",
        "# Print or use the predictions as needed\n",
        "for filename, pred_class, pred_prob in predictions:\n",
        "    print(f\"Image: {filename}, Predicted Class: {pred_class}, Probability: {pred_prob:.2f}%\")\n"
      ],
      "metadata": {
        "execution": {
          "iopub.status.busy": "2024-03-24T12:29:36.882651Z",
          "iopub.execute_input": "2024-03-24T12:29:36.88361Z",
          "iopub.status.idle": "2024-03-24T12:29:49.318693Z",
          "shell.execute_reply.started": "2024-03-24T12:29:36.883572Z",
          "shell.execute_reply": "2024-03-24T12:29:49.317793Z"
        },
        "trusted": true,
        "id": "COHmVPKkGCXu",
        "outputId": "1590fd0a-4c07-4a2f-bad2-db4f336b311b"
      },
      "execution_count": null,
      "outputs": [
        {
          "name": "stdout",
          "text": "\u001b[1m1/1\u001b[0m \u001b[32m━━━━━━━━━━━━━━━━━━━━\u001b[0m\u001b[37m\u001b[0m \u001b[1m2s\u001b[0m 2s/step\n\u001b[1m1/1\u001b[0m \u001b[32m━━━━━━━━━━━━━━━━━━━━\u001b[0m\u001b[37m\u001b[0m \u001b[1m0s\u001b[0m 18ms/step\n\u001b[1m1/1\u001b[0m \u001b[32m━━━━━━━━━━━━━━━━━━━━\u001b[0m\u001b[37m\u001b[0m \u001b[1m0s\u001b[0m 17ms/step\n\u001b[1m1/1\u001b[0m \u001b[32m━━━━━━━━━━━━━━━━━━━━\u001b[0m\u001b[37m\u001b[0m \u001b[1m0s\u001b[0m 18ms/step\n\u001b[1m1/1\u001b[0m \u001b[32m━━━━━━━━━━━━━━━━━━━━\u001b[0m\u001b[37m\u001b[0m \u001b[1m0s\u001b[0m 17ms/step\n\u001b[1m1/1\u001b[0m \u001b[32m━━━━━━━━━━━━━━━━━━━━\u001b[0m\u001b[37m\u001b[0m \u001b[1m0s\u001b[0m 16ms/step\n\u001b[1m1/1\u001b[0m \u001b[32m━━━━━━━━━━━━━━━━━━━━\u001b[0m\u001b[37m\u001b[0m \u001b[1m0s\u001b[0m 17ms/step\n\u001b[1m1/1\u001b[0m \u001b[32m━━━━━━━━━━━━━━━━━━━━\u001b[0m\u001b[37m\u001b[0m \u001b[1m0s\u001b[0m 18ms/step\n\u001b[1m1/1\u001b[0m \u001b[32m━━━━━━━━━━━━━━━━━━━━\u001b[0m\u001b[37m\u001b[0m \u001b[1m0s\u001b[0m 18ms/step\n\u001b[1m1/1\u001b[0m \u001b[32m━━━━━━━━━━━━━━━━━━━━\u001b[0m\u001b[37m\u001b[0m \u001b[1m0s\u001b[0m 19ms/step\n\u001b[1m1/1\u001b[0m \u001b[32m━━━━━━━━━━━━━━━━━━━━\u001b[0m\u001b[37m\u001b[0m \u001b[1m0s\u001b[0m 18ms/step\n\u001b[1m1/1\u001b[0m \u001b[32m━━━━━━━━━━━━━━━━━━━━\u001b[0m\u001b[37m\u001b[0m \u001b[1m0s\u001b[0m 17ms/step\n\u001b[1m1/1\u001b[0m \u001b[32m━━━━━━━━━━━━━━━━━━━━\u001b[0m\u001b[37m\u001b[0m \u001b[1m0s\u001b[0m 16ms/step\n\u001b[1m1/1\u001b[0m \u001b[32m━━━━━━━━━━━━━━━━━━━━\u001b[0m\u001b[37m\u001b[0m \u001b[1m0s\u001b[0m 19ms/step\n\u001b[1m1/1\u001b[0m \u001b[32m━━━━━━━━━━━━━━━━━━━━\u001b[0m\u001b[37m\u001b[0m \u001b[1m0s\u001b[0m 17ms/step\n\u001b[1m1/1\u001b[0m \u001b[32m━━━━━━━━━━━━━━━━━━━━\u001b[0m\u001b[37m\u001b[0m \u001b[1m0s\u001b[0m 17ms/step\n\u001b[1m1/1\u001b[0m \u001b[32m━━━━━━━━━━━━━━━━━━━━\u001b[0m\u001b[37m\u001b[0m \u001b[1m0s\u001b[0m 17ms/step\n\u001b[1m1/1\u001b[0m \u001b[32m━━━━━━━━━━━━━━━━━━━━\u001b[0m\u001b[37m\u001b[0m \u001b[1m0s\u001b[0m 16ms/step\n\u001b[1m1/1\u001b[0m \u001b[32m━━━━━━━━━━━━━━━━━━━━\u001b[0m\u001b[37m\u001b[0m \u001b[1m0s\u001b[0m 16ms/step\n\u001b[1m1/1\u001b[0m \u001b[32m━━━━━━━━━━━━━━━━━━━━\u001b[0m\u001b[37m\u001b[0m \u001b[1m0s\u001b[0m 17ms/step\n\u001b[1m1/1\u001b[0m \u001b[32m━━━━━━━━━━━━━━━━━━━━\u001b[0m\u001b[37m\u001b[0m \u001b[1m0s\u001b[0m 18ms/step\n\u001b[1m1/1\u001b[0m \u001b[32m━━━━━━━━━━━━━━━━━━━━\u001b[0m\u001b[37m\u001b[0m \u001b[1m0s\u001b[0m 18ms/step\n\u001b[1m1/1\u001b[0m \u001b[32m━━━━━━━━━━━━━━━━━━━━\u001b[0m\u001b[37m\u001b[0m \u001b[1m0s\u001b[0m 17ms/step\n\u001b[1m1/1\u001b[0m \u001b[32m━━━━━━━━━━━━━━━━━━━━\u001b[0m\u001b[37m\u001b[0m \u001b[1m0s\u001b[0m 19ms/step\n\u001b[1m1/1\u001b[0m \u001b[32m━━━━━━━━━━━━━━━━━━━━\u001b[0m\u001b[37m\u001b[0m \u001b[1m0s\u001b[0m 18ms/step\n\u001b[1m1/1\u001b[0m \u001b[32m━━━━━━━━━━━━━━━━━━━━\u001b[0m\u001b[37m\u001b[0m \u001b[1m0s\u001b[0m 18ms/step\n\u001b[1m1/1\u001b[0m \u001b[32m━━━━━━━━━━━━━━━━━━━━\u001b[0m\u001b[37m\u001b[0m \u001b[1m0s\u001b[0m 16ms/step\n\u001b[1m1/1\u001b[0m \u001b[32m━━━━━━━━━━━━━━━━━━━━\u001b[0m\u001b[37m\u001b[0m \u001b[1m0s\u001b[0m 16ms/step\n\u001b[1m1/1\u001b[0m \u001b[32m━━━━━━━━━━━━━━━━━━━━\u001b[0m\u001b[37m\u001b[0m \u001b[1m0s\u001b[0m 25ms/step\n\u001b[1m1/1\u001b[0m \u001b[32m━━━━━━━━━━━━━━━━━━━━\u001b[0m\u001b[37m\u001b[0m \u001b[1m0s\u001b[0m 25ms/step\n\u001b[1m1/1\u001b[0m \u001b[32m━━━━━━━━━━━━━━━━━━━━\u001b[0m\u001b[37m\u001b[0m \u001b[1m0s\u001b[0m 17ms/step\n\u001b[1m1/1\u001b[0m \u001b[32m━━━━━━━━━━━━━━━━━━━━\u001b[0m\u001b[37m\u001b[0m \u001b[1m0s\u001b[0m 16ms/step\n\u001b[1m1/1\u001b[0m \u001b[32m━━━━━━━━━━━━━━━━━━━━\u001b[0m\u001b[37m\u001b[0m \u001b[1m0s\u001b[0m 17ms/step\n\u001b[1m1/1\u001b[0m \u001b[32m━━━━━━━━━━━━━━━━━━━━\u001b[0m\u001b[37m\u001b[0m \u001b[1m0s\u001b[0m 18ms/step\n\u001b[1m1/1\u001b[0m \u001b[32m━━━━━━━━━━━━━━━━━━━━\u001b[0m\u001b[37m\u001b[0m \u001b[1m0s\u001b[0m 17ms/step\n\u001b[1m1/1\u001b[0m \u001b[32m━━━━━━━━━━━━━━━━━━━━\u001b[0m\u001b[37m\u001b[0m \u001b[1m0s\u001b[0m 17ms/step\n\u001b[1m1/1\u001b[0m \u001b[32m━━━━━━━━━━━━━━━━━━━━\u001b[0m\u001b[37m\u001b[0m \u001b[1m0s\u001b[0m 17ms/step\n\u001b[1m1/1\u001b[0m \u001b[32m━━━━━━━━━━━━━━━━━━━━\u001b[0m\u001b[37m\u001b[0m \u001b[1m0s\u001b[0m 16ms/step\n\u001b[1m1/1\u001b[0m \u001b[32m━━━━━━━━━━━━━━━━━━━━\u001b[0m\u001b[37m\u001b[0m \u001b[1m0s\u001b[0m 16ms/step\n\u001b[1m1/1\u001b[0m \u001b[32m━━━━━━━━━━━━━━━━━━━━\u001b[0m\u001b[37m\u001b[0m \u001b[1m0s\u001b[0m 18ms/step\n\u001b[1m1/1\u001b[0m \u001b[32m━━━━━━━━━━━━━━━━━━━━\u001b[0m\u001b[37m\u001b[0m \u001b[1m0s\u001b[0m 17ms/step\n\u001b[1m1/1\u001b[0m \u001b[32m━━━━━━━━━━━━━━━━━━━━\u001b[0m\u001b[37m\u001b[0m \u001b[1m0s\u001b[0m 18ms/step\n\u001b[1m1/1\u001b[0m \u001b[32m━━━━━━━━━━━━━━━━━━━━\u001b[0m\u001b[37m\u001b[0m \u001b[1m0s\u001b[0m 17ms/step\n\u001b[1m1/1\u001b[0m \u001b[32m━━━━━━━━━━━━━━━━━━━━\u001b[0m\u001b[37m\u001b[0m \u001b[1m0s\u001b[0m 18ms/step\n\u001b[1m1/1\u001b[0m \u001b[32m━━━━━━━━━━━━━━━━━━━━\u001b[0m\u001b[37m\u001b[0m \u001b[1m0s\u001b[0m 19ms/step\n\u001b[1m1/1\u001b[0m \u001b[32m━━━━━━━━━━━━━━━━━━━━\u001b[0m\u001b[37m\u001b[0m \u001b[1m0s\u001b[0m 19ms/step\n\u001b[1m1/1\u001b[0m \u001b[32m━━━━━━━━━━━━━━━━━━━━\u001b[0m\u001b[37m\u001b[0m \u001b[1m0s\u001b[0m 19ms/step\n\u001b[1m1/1\u001b[0m \u001b[32m━━━━━━━━━━━━━━━━━━━━\u001b[0m\u001b[37m\u001b[0m \u001b[1m0s\u001b[0m 17ms/step\n\u001b[1m1/1\u001b[0m \u001b[32m━━━━━━━━━━━━━━━━━━━━\u001b[0m\u001b[37m\u001b[0m \u001b[1m0s\u001b[0m 17ms/step\n\u001b[1m1/1\u001b[0m \u001b[32m━━━━━━━━━━━━━━━━━━━━\u001b[0m\u001b[37m\u001b[0m \u001b[1m0s\u001b[0m 18ms/step\n\u001b[1m1/1\u001b[0m \u001b[32m━━━━━━━━━━━━━━━━━━━━\u001b[0m\u001b[37m\u001b[0m \u001b[1m0s\u001b[0m 18ms/step\n\u001b[1m1/1\u001b[0m \u001b[32m━━━━━━━━━━━━━━━━━━━━\u001b[0m\u001b[37m\u001b[0m \u001b[1m0s\u001b[0m 17ms/step\n\u001b[1m1/1\u001b[0m \u001b[32m━━━━━━━━━━━━━━━━━━━━\u001b[0m\u001b[37m\u001b[0m \u001b[1m0s\u001b[0m 16ms/step\n\u001b[1m1/1\u001b[0m \u001b[32m━━━━━━━━━━━━━━━━━━━━\u001b[0m\u001b[37m\u001b[0m \u001b[1m0s\u001b[0m 18ms/step\n\u001b[1m1/1\u001b[0m \u001b[32m━━━━━━━━━━━━━━━━━━━━\u001b[0m\u001b[37m\u001b[0m \u001b[1m0s\u001b[0m 17ms/step\n\u001b[1m1/1\u001b[0m \u001b[32m━━━━━━━━━━━━━━━━━━━━\u001b[0m\u001b[37m\u001b[0m \u001b[1m0s\u001b[0m 18ms/step\n\u001b[1m1/1\u001b[0m \u001b[32m━━━━━━━━━━━━━━━━━━━━\u001b[0m\u001b[37m\u001b[0m \u001b[1m0s\u001b[0m 17ms/step\n\u001b[1m1/1\u001b[0m \u001b[32m━━━━━━━━━━━━━━━━━━━━\u001b[0m\u001b[37m\u001b[0m \u001b[1m0s\u001b[0m 18ms/step\n\u001b[1m1/1\u001b[0m \u001b[32m━━━━━━━━━━━━━━━━━━━━\u001b[0m\u001b[37m\u001b[0m \u001b[1m0s\u001b[0m 18ms/step\n\u001b[1m1/1\u001b[0m \u001b[32m━━━━━━━━━━━━━━━━━━━━\u001b[0m\u001b[37m\u001b[0m \u001b[1m0s\u001b[0m 17ms/step\n\u001b[1m1/1\u001b[0m \u001b[32m━━━━━━━━━━━━━━━━━━━━\u001b[0m\u001b[37m\u001b[0m \u001b[1m0s\u001b[0m 17ms/step\n\u001b[1m1/1\u001b[0m \u001b[32m━━━━━━━━━━━━━━━━━━━━\u001b[0m\u001b[37m\u001b[0m \u001b[1m0s\u001b[0m 17ms/step\n\u001b[1m1/1\u001b[0m \u001b[32m━━━━━━━━━━━━━━━━━━━━\u001b[0m\u001b[37m\u001b[0m \u001b[1m0s\u001b[0m 20ms/step\n\u001b[1m1/1\u001b[0m \u001b[32m━━━━━━━━━━━━━━━━━━━━\u001b[0m\u001b[37m\u001b[0m \u001b[1m0s\u001b[0m 19ms/step\n\u001b[1m1/1\u001b[0m \u001b[32m━━━━━━━━━━━━━━━━━━━━\u001b[0m\u001b[37m\u001b[0m \u001b[1m0s\u001b[0m 18ms/step\n\u001b[1m1/1\u001b[0m \u001b[32m━━━━━━━━━━━━━━━━━━━━\u001b[0m\u001b[37m\u001b[0m \u001b[1m0s\u001b[0m 18ms/step\n\u001b[1m1/1\u001b[0m \u001b[32m━━━━━━━━━━━━━━━━━━━━\u001b[0m\u001b[37m\u001b[0m \u001b[1m0s\u001b[0m 17ms/step\n\u001b[1m1/1\u001b[0m \u001b[32m━━━━━━━━━━━━━━━━━━━━\u001b[0m\u001b[37m\u001b[0m \u001b[1m0s\u001b[0m 17ms/step\n\u001b[1m1/1\u001b[0m \u001b[32m━━━━━━━━━━━━━━━━━━━━\u001b[0m\u001b[37m\u001b[0m \u001b[1m0s\u001b[0m 17ms/step\n\u001b[1m1/1\u001b[0m \u001b[32m━━━━━━━━━━━━━━━━━━━━\u001b[0m\u001b[37m\u001b[0m \u001b[1m0s\u001b[0m 20ms/step\n\u001b[1m1/1\u001b[0m \u001b[32m━━━━━━━━━━━━━━━━━━━━\u001b[0m\u001b[37m\u001b[0m \u001b[1m0s\u001b[0m 19ms/step\n\u001b[1m1/1\u001b[0m \u001b[32m━━━━━━━━━━━━━━━━━━━━\u001b[0m\u001b[37m\u001b[0m \u001b[1m0s\u001b[0m 19ms/step\n\u001b[1m1/1\u001b[0m \u001b[32m━━━━━━━━━━━━━━━━━━━━\u001b[0m\u001b[37m\u001b[0m \u001b[1m0s\u001b[0m 19ms/step\n\u001b[1m1/1\u001b[0m \u001b[32m━━━━━━━━━━━━━━━━━━━━\u001b[0m\u001b[37m\u001b[0m \u001b[1m0s\u001b[0m 18ms/step\n\u001b[1m1/1\u001b[0m \u001b[32m━━━━━━━━━━━━━━━━━━━━\u001b[0m\u001b[37m\u001b[0m \u001b[1m0s\u001b[0m 18ms/step\n\u001b[1m1/1\u001b[0m \u001b[32m━━━━━━━━━━━━━━━━━━━━\u001b[0m\u001b[37m\u001b[0m \u001b[1m0s\u001b[0m 17ms/step\n\u001b[1m1/1\u001b[0m \u001b[32m━━━━━━━━━━━━━━━━━━━━\u001b[0m\u001b[37m\u001b[0m \u001b[1m0s\u001b[0m 20ms/step\n\u001b[1m1/1\u001b[0m \u001b[32m━━━━━━━━━━━━━━━━━━━━\u001b[0m\u001b[37m\u001b[0m \u001b[1m0s\u001b[0m 18ms/step\n\u001b[1m1/1\u001b[0m \u001b[32m━━━━━━━━━━━━━━━━━━━━\u001b[0m\u001b[37m\u001b[0m \u001b[1m0s\u001b[0m 17ms/step\n\u001b[1m1/1\u001b[0m \u001b[32m━━━━━━━━━━━━━━━━━━━━\u001b[0m\u001b[37m\u001b[0m \u001b[1m0s\u001b[0m 16ms/step\n\u001b[1m1/1\u001b[0m \u001b[32m━━━━━━━━━━━━━━━━━━━━\u001b[0m\u001b[37m\u001b[0m \u001b[1m0s\u001b[0m 17ms/step\n\u001b[1m1/1\u001b[0m \u001b[32m━━━━━━━━━━━━━━━━━━━━\u001b[0m\u001b[37m\u001b[0m \u001b[1m0s\u001b[0m 18ms/step\n\u001b[1m1/1\u001b[0m \u001b[32m━━━━━━━━━━━━━━━━━━━━\u001b[0m\u001b[37m\u001b[0m \u001b[1m0s\u001b[0m 17ms/step\n\u001b[1m1/1\u001b[0m \u001b[32m━━━━━━━━━━━━━━━━━━━━\u001b[0m\u001b[37m\u001b[0m \u001b[1m0s\u001b[0m 17ms/step\n\u001b[1m1/1\u001b[0m \u001b[32m━━━━━━━━━━━━━━━━━━━━\u001b[0m\u001b[37m\u001b[0m \u001b[1m0s\u001b[0m 18ms/step\n\u001b[1m1/1\u001b[0m \u001b[32m━━━━━━━━━━━━━━━━━━━━\u001b[0m\u001b[37m\u001b[0m \u001b[1m0s\u001b[0m 20ms/step\n\u001b[1m1/1\u001b[0m \u001b[32m━━━━━━━━━━━━━━━━━━━━\u001b[0m\u001b[37m\u001b[0m \u001b[1m0s\u001b[0m 17ms/step\n\u001b[1m1/1\u001b[0m \u001b[32m━━━━━━━━━━━━━━━━━━━━\u001b[0m\u001b[37m\u001b[0m \u001b[1m0s\u001b[0m 19ms/step\n\u001b[1m1/1\u001b[0m \u001b[32m━━━━━━━━━━━━━━━━━━━━\u001b[0m\u001b[37m\u001b[0m \u001b[1m0s\u001b[0m 17ms/step\n\u001b[1m1/1\u001b[0m \u001b[32m━━━━━━━━━━━━━━━━━━━━\u001b[0m\u001b[37m\u001b[0m \u001b[1m0s\u001b[0m 17ms/step\n\u001b[1m1/1\u001b[0m \u001b[32m━━━━━━━━━━━━━━━━━━━━\u001b[0m\u001b[37m\u001b[0m \u001b[1m0s\u001b[0m 18ms/step\nImage: 100__389.jpg, Predicted Class: 1, Probability: 100.00%\nImage: 500__331.jpg, Predicted Class: 6, Probability: 100.00%\nImage: 20__136.jpg, Predicted Class: 2, Probability: 99.98%\nImage: 100__415.jpg, Predicted Class: 1, Probability: 100.00%\nImage: 100_359.jpg, Predicted Class: 1, Probability: 99.96%\nImage: 20__324.jpg, Predicted Class: 2, Probability: 99.61%\nImage: 50__274.jpg, Predicted Class: 5, Probability: 95.58%\nImage: 50__408.jpg, Predicted Class: 5, Probability: 99.21%\nImage: 20__107.jpg, Predicted Class: 2, Probability: 99.99%\nImage: 2000__66.jpg, Predicted Class: 4, Probability: 100.00%\nImage: 10__324.jpg, Predicted Class: 0, Probability: 100.00%\nImage: 100_20.jpg, Predicted Class: 1, Probability: 100.00%\nImage: 100_15.jpg, Predicted Class: 1, Probability: 100.00%\nImage: 50__345.jpg, Predicted Class: 5, Probability: 100.00%\nImage: 500__17.jpg, Predicted Class: 6, Probability: 100.00%\nImage: 20__9.jpg, Predicted Class: 2, Probability: 64.04%\nImage: 20__295.jpg, Predicted Class: 2, Probability: 94.09%\nImage: 50__213.jpg, Predicted Class: 5, Probability: 99.85%\nImage: 200.__87.jpg, Predicted Class: 3, Probability: 100.00%\nImage: 2000__317.jpg, Predicted Class: 4, Probability: 100.00%\nImage: 200.__492.jpg, Predicted Class: 3, Probability: 100.00%\nImage: 500__0.jpg, Predicted Class: 6, Probability: 100.00%\nImage: 20__65.jpg, Predicted Class: 2, Probability: 100.00%\nImage: 200.__170.jpg, Predicted Class: 3, Probability: 99.94%\nImage: 200.__402.jpg, Predicted Class: 3, Probability: 100.00%\nImage: 50__288.jpg, Predicted Class: 5, Probability: 100.00%\nImage: 500__114.jpg, Predicted Class: 6, Probability: 100.00%\nImage: 100__371.jpg, Predicted Class: 1, Probability: 53.61%\nImage: 50__148.jpg, Predicted Class: 5, Probability: 75.16%\nImage: 200.__37.jpg, Predicted Class: 3, Probability: 98.63%\nImage: 500__233.jpg, Predicted Class: 6, Probability: 99.97%\nImage: 10__247.jpg, Predicted Class: 0, Probability: 99.66%\nImage: 50__267.jpg, Predicted Class: 5, Probability: 99.78%\nImage: 10__443.jpg, Predicted Class: 0, Probability: 87.57%\nImage: 2000__8.jpg, Predicted Class: 4, Probability: 100.00%\nImage: 2000__161.jpg, Predicted Class: 4, Probability: 100.00%\nImage: 10__276.jpg, Predicted Class: 0, Probability: 99.99%\nImage: 100__386.jpg, Predicted Class: 1, Probability: 99.68%\nImage: Background__303.jpg, Predicted Class: 7, Probability: 98.01%\nImage: Background__312.jpg, Predicted Class: 7, Probability: 41.03%\nImage: 100__437.jpg, Predicted Class: 1, Probability: 99.67%\nImage: 200.__1.jpg, Predicted Class: 3, Probability: 100.00%\nImage: 100__427.jpg, Predicted Class: 1, Probability: 100.00%\nImage: Background__302.jpg, Predicted Class: 7, Probability: 100.00%\nImage: 500__57.jpg, Predicted Class: 6, Probability: 100.00%\nImage: Background__311.jpg, Predicted Class: 7, Probability: 99.94%\nImage: 100_4.jpg, Predicted Class: 1, Probability: 100.00%\nImage: 20__350.jpg, Predicted Class: 2, Probability: 100.00%\nImage: 2000__114.jpg, Predicted Class: 4, Probability: 100.00%\nImage: 100_371.jpg, Predicted Class: 1, Probability: 94.36%\nImage: 2000__261.jpg, Predicted Class: 4, Probability: 100.00%\nImage: Background__305.jpg, Predicted Class: 7, Probability: 100.00%\nImage: 200.__143.jpg, Predicted Class: 3, Probability: 95.55%\nImage: 500__429.jpg, Predicted Class: 6, Probability: 100.00%\nImage: 20__72.jpg, Predicted Class: 2, Probability: 100.00%\nImage: 50__295.jpg, Predicted Class: 5, Probability: 99.96%\nImage: 10__206.jpg, Predicted Class: 6, Probability: 44.08%\nImage: 200.__206.jpg, Predicted Class: 3, Probability: 100.00%\nImage: 200.__338.jpg, Predicted Class: 3, Probability: 99.62%\nImage: 500__262.jpg, Predicted Class: 6, Probability: 100.00%\nImage: 2000__240.jpg, Predicted Class: 4, Probability: 100.00%\nImage: Background__304.jpg, Predicted Class: 7, Probability: 100.00%\nImage: 20__415.jpg, Predicted Class: 2, Probability: 100.00%\nImage: 20__36.jpg, Predicted Class: 2, Probability: 99.90%\nImage: 20__449.jpg, Predicted Class: 2, Probability: 100.00%\nImage: 100__435.jpg, Predicted Class: 1, Probability: 100.00%\nImage: 20__226.jpg, Predicted Class: 2, Probability: 100.00%\nImage: 500__289.jpg, Predicted Class: 6, Probability: 99.95%\nImage: 500__374.jpg, Predicted Class: 6, Probability: 100.00%\nImage: 200.__225.jpg, Predicted Class: 3, Probability: 100.00%\nImage: Background__310.jpg, Predicted Class: 7, Probability: 100.00%\nImage: Background__309.jpg, Predicted Class: 7, Probability: 94.92%\nImage: 2000__37.jpg, Predicted Class: 4, Probability: 100.00%\nImage: 2000__428.jpg, Predicted Class: 4, Probability: 100.00%\nImage: 2000__359.jpg, Predicted Class: 4, Probability: 100.00%\nImage: 200.__142.jpg, Predicted Class: 3, Probability: 92.75%\nImage: 2000__288.jpg, Predicted Class: 4, Probability: 100.00%\nImage: 50__366.jpg, Predicted Class: 5, Probability: 100.00%\nImage: 100_270.jpg, Predicted Class: 1, Probability: 100.00%\nImage: 50__338.jpg, Predicted Class: 5, Probability: 78.11%\nImage: 200.__254.jpg, Predicted Class: 3, Probability: 100.00%\nImage: 10__358.jpg, Predicted Class: 0, Probability: 95.19%\nImage: 500__37.jpg, Predicted Class: 6, Probability: 98.97%\nImage: 200.__17.jpg, Predicted Class: 3, Probability: 97.94%\nImage: 200.__290.jpg, Predicted Class: 3, Probability: 100.00%\nImage: 50__442.jpg, Predicted Class: 5, Probability: 99.94%\nImage: 100_3.jpg, Predicted Class: 1, Probability: 97.01%\nImage: 10__388.jpg, Predicted Class: 0, Probability: 100.00%\nImage: 50__147.jpg, Predicted Class: 5, Probability: 99.86%\nImage: 50__183.jpg, Predicted Class: 5, Probability: 100.00%\nImage: 200.__192.jpg, Predicted Class: 3, Probability: 100.00%\n",
          "output_type": "stream"
        }
      ]
    },
    {
      "cell_type": "code",
      "source": [
        "import os\n",
        "from tensorflow.keras.preprocessing.image import load_img, img_to_array  # Replace with your image loading library if using different\n",
        "\n",
        "# Define the path to your folder containing images\n",
        "image_folder = \"/kaggle/input/indian-currency-note-images-dataset-2020/Indian currency dataset v1/test\"\n",
        "\n",
        "# Load your trained model\n",
        "model = tf.keras.models.load_model(\"/kaggle/working/updatedmodel.h5\")  # Replace tf.keras with your model loading method\n",
        "\n",
        "# Define the target image size expected by your model (height, width)\n",
        "img_height, img_width = (240, 240)  # Update these values as per your model\n",
        "\n",
        "# Extract the denomination information from filenames (assuming format: denomination[_.]*_*.jpg)\n",
        "def get_denomination(filename):\n",
        "  parts = filename.split(\"_\")\n",
        "  # Check if denomination is the first part or before the first underscore\n",
        "  if len(parts) > 1 and parts[0].isdigit():\n",
        "    return int(parts[0])\n",
        "  else:\n",
        "    return None  # Return None if denomination not found in expected format\n",
        "\n",
        "# List to store predictions\n",
        "predictions = []\n",
        "\n",
        "# Loop through each image in the folder\n",
        "for filename in os.listdir(image_folder):\n",
        "    # Check if it's an image file\n",
        "    if filename.endswith(\".jpg\") or filename.endswith(\".png\"):  # Add other extensions if needed\n",
        "\n",
        "        # Load the image\n",
        "        img = load_img(os.path.join(image_folder, filename), target_size=(img_height, img_width))\n",
        "\n",
        "        # Preprocess the image for prediction (convert to array, normalize etc.)\n",
        "        img_array = img_to_array(img)\n",
        "        img_array = img_array / 255.0  # Assuming normalization by 255, adjust if needed\n",
        "        img_array = np.expand_dims(img_array, axis=0)  # Add extra dimension for batch prediction\n",
        "\n",
        "        # Make prediction using the model\n",
        "        prediction = model.predict(img_array)\n",
        "\n",
        "        # Process the prediction (get class label, probability etc.)\n",
        "        # This part depends on your model's output format\n",
        "        predicted_class = np.argmax(prediction[0])  # Assuming classification model\n",
        "        predicted_prob = prediction[0][predicted_class] * 100  # Assuming probability in output\n",
        "\n",
        "        # Extract denomination from filename\n",
        "        denomination = get_denomination(filename)\n",
        "\n",
        "        # Combine prediction with filename information\n",
        "        predicted_text = f\"Predicted Class: {predicted_class}, Probability: {predicted_prob:.2f}%\"\n",
        "        if denomination is not None and denomination != predicted_class:  # Check if denomination found and mismatch\n",
        "            predicted_text += f\" (Filename Denomination: {denomination})\"  # Add filename denomination if mismatch\n",
        "\n",
        "        # Store prediction results (filename, predicted class, probability etc.)\n",
        "        predictions.append((filename, predicted_text))\n",
        "\n",
        "# Print or use the predictions as needed\n",
        "for filename, prediction_text in predictions:\n",
        "    print(f\"Image: {filename}, {prediction_text}\")\n"
      ],
      "metadata": {
        "execution": {
          "iopub.status.busy": "2024-03-24T12:36:51.369686Z",
          "iopub.execute_input": "2024-03-24T12:36:51.370111Z",
          "iopub.status.idle": "2024-03-24T12:36:59.888223Z",
          "shell.execute_reply.started": "2024-03-24T12:36:51.370079Z",
          "shell.execute_reply": "2024-03-24T12:36:59.887299Z"
        },
        "trusted": true,
        "id": "87vzcT-QGCX1",
        "outputId": "9a011b96-f552-4c47-ff53-a4aecb4a3c92"
      },
      "execution_count": null,
      "outputs": [
        {
          "name": "stdout",
          "text": "\u001b[1m1/1\u001b[0m \u001b[32m━━━━━━━━━━━━━━━━━━━━\u001b[0m\u001b[37m\u001b[0m \u001b[1m0s\u001b[0m 402ms/step\n\u001b[1m1/1\u001b[0m \u001b[32m━━━━━━━━━━━━━━━━━━━━\u001b[0m\u001b[37m\u001b[0m \u001b[1m0s\u001b[0m 18ms/step\n\u001b[1m1/1\u001b[0m \u001b[32m━━━━━━━━━━━━━━━━━━━━\u001b[0m\u001b[37m\u001b[0m \u001b[1m0s\u001b[0m 18ms/step\n\u001b[1m1/1\u001b[0m \u001b[32m━━━━━━━━━━━━━━━━━━━━\u001b[0m\u001b[37m\u001b[0m \u001b[1m0s\u001b[0m 18ms/step\n\u001b[1m1/1\u001b[0m \u001b[32m━━━━━━━━━━━━━━━━━━━━\u001b[0m\u001b[37m\u001b[0m \u001b[1m0s\u001b[0m 18ms/step\n\u001b[1m1/1\u001b[0m \u001b[32m━━━━━━━━━━━━━━━━━━━━\u001b[0m\u001b[37m\u001b[0m \u001b[1m0s\u001b[0m 17ms/step\n\u001b[1m1/1\u001b[0m \u001b[32m━━━━━━━━━━━━━━━━━━━━\u001b[0m\u001b[37m\u001b[0m \u001b[1m0s\u001b[0m 22ms/step\n\u001b[1m1/1\u001b[0m \u001b[32m━━━━━━━━━━━━━━━━━━━━\u001b[0m\u001b[37m\u001b[0m \u001b[1m0s\u001b[0m 17ms/step\n\u001b[1m1/1\u001b[0m \u001b[32m━━━━━━━━━━━━━━━━━━━━\u001b[0m\u001b[37m\u001b[0m \u001b[1m0s\u001b[0m 17ms/step\n\u001b[1m1/1\u001b[0m \u001b[32m━━━━━━━━━━━━━━━━━━━━\u001b[0m\u001b[37m\u001b[0m \u001b[1m0s\u001b[0m 17ms/step\n\u001b[1m1/1\u001b[0m \u001b[32m━━━━━━━━━━━━━━━━━━━━\u001b[0m\u001b[37m\u001b[0m \u001b[1m0s\u001b[0m 16ms/step\n\u001b[1m1/1\u001b[0m \u001b[32m━━━━━━━━━━━━━━━━━━━━\u001b[0m\u001b[37m\u001b[0m \u001b[1m0s\u001b[0m 16ms/step\n\u001b[1m1/1\u001b[0m \u001b[32m━━━━━━━━━━━━━━━━━━━━\u001b[0m\u001b[37m\u001b[0m \u001b[1m0s\u001b[0m 16ms/step\n\u001b[1m1/1\u001b[0m \u001b[32m━━━━━━━━━━━━━━━━━━━━\u001b[0m\u001b[37m\u001b[0m \u001b[1m0s\u001b[0m 18ms/step\n\u001b[1m1/1\u001b[0m \u001b[32m━━━━━━━━━━━━━━━━━━━━\u001b[0m\u001b[37m\u001b[0m \u001b[1m0s\u001b[0m 17ms/step\n\u001b[1m1/1\u001b[0m \u001b[32m━━━━━━━━━━━━━━━━━━━━\u001b[0m\u001b[37m\u001b[0m \u001b[1m0s\u001b[0m 17ms/step\n\u001b[1m1/1\u001b[0m \u001b[32m━━━━━━━━━━━━━━━━━━━━\u001b[0m\u001b[37m\u001b[0m \u001b[1m0s\u001b[0m 16ms/step\n\u001b[1m1/1\u001b[0m \u001b[32m━━━━━━━━━━━━━━━━━━━━\u001b[0m\u001b[37m\u001b[0m \u001b[1m0s\u001b[0m 16ms/step\n\u001b[1m1/1\u001b[0m \u001b[32m━━━━━━━━━━━━━━━━━━━━\u001b[0m\u001b[37m\u001b[0m \u001b[1m0s\u001b[0m 17ms/step\n\u001b[1m1/1\u001b[0m \u001b[32m━━━━━━━━━━━━━━━━━━━━\u001b[0m\u001b[37m\u001b[0m \u001b[1m0s\u001b[0m 18ms/step\n\u001b[1m1/1\u001b[0m \u001b[32m━━━━━━━━━━━━━━━━━━━━\u001b[0m\u001b[37m\u001b[0m \u001b[1m0s\u001b[0m 18ms/step\n\u001b[1m1/1\u001b[0m \u001b[32m━━━━━━━━━━━━━━━━━━━━\u001b[0m\u001b[37m\u001b[0m \u001b[1m0s\u001b[0m 17ms/step\n\u001b[1m1/1\u001b[0m \u001b[32m━━━━━━━━━━━━━━━━━━━━\u001b[0m\u001b[37m\u001b[0m \u001b[1m0s\u001b[0m 16ms/step\n\u001b[1m1/1\u001b[0m \u001b[32m━━━━━━━━━━━━━━━━━━━━\u001b[0m\u001b[37m\u001b[0m \u001b[1m0s\u001b[0m 17ms/step\n\u001b[1m1/1\u001b[0m \u001b[32m━━━━━━━━━━━━━━━━━━━━\u001b[0m\u001b[37m\u001b[0m \u001b[1m0s\u001b[0m 18ms/step\n\u001b[1m1/1\u001b[0m \u001b[32m━━━━━━━━━━━━━━━━━━━━\u001b[0m\u001b[37m\u001b[0m \u001b[1m0s\u001b[0m 18ms/step\n\u001b[1m1/1\u001b[0m \u001b[32m━━━━━━━━━━━━━━━━━━━━\u001b[0m\u001b[37m\u001b[0m \u001b[1m0s\u001b[0m 20ms/step\n\u001b[1m1/1\u001b[0m \u001b[32m━━━━━━━━━━━━━━━━━━━━\u001b[0m\u001b[37m\u001b[0m \u001b[1m0s\u001b[0m 19ms/step\n\u001b[1m1/1\u001b[0m \u001b[32m━━━━━━━━━━━━━━━━━━━━\u001b[0m\u001b[37m\u001b[0m \u001b[1m0s\u001b[0m 19ms/step\n\u001b[1m1/1\u001b[0m \u001b[32m━━━━━━━━━━━━━━━━━━━━\u001b[0m\u001b[37m\u001b[0m \u001b[1m0s\u001b[0m 19ms/step\n\u001b[1m1/1\u001b[0m \u001b[32m━━━━━━━━━━━━━━━━━━━━\u001b[0m\u001b[37m\u001b[0m \u001b[1m0s\u001b[0m 18ms/step\n\u001b[1m1/1\u001b[0m \u001b[32m━━━━━━━━━━━━━━━━━━━━\u001b[0m\u001b[37m\u001b[0m \u001b[1m0s\u001b[0m 16ms/step\n\u001b[1m1/1\u001b[0m \u001b[32m━━━━━━━━━━━━━━━━━━━━\u001b[0m\u001b[37m\u001b[0m \u001b[1m0s\u001b[0m 17ms/step\n\u001b[1m1/1\u001b[0m \u001b[32m━━━━━━━━━━━━━━━━━━━━\u001b[0m\u001b[37m\u001b[0m \u001b[1m0s\u001b[0m 17ms/step\n\u001b[1m1/1\u001b[0m \u001b[32m━━━━━━━━━━━━━━━━━━━━\u001b[0m\u001b[37m\u001b[0m \u001b[1m0s\u001b[0m 17ms/step\n\u001b[1m1/1\u001b[0m \u001b[32m━━━━━━━━━━━━━━━━━━━━\u001b[0m\u001b[37m\u001b[0m \u001b[1m0s\u001b[0m 16ms/step\n\u001b[1m1/1\u001b[0m \u001b[32m━━━━━━━━━━━━━━━━━━━━\u001b[0m\u001b[37m\u001b[0m \u001b[1m0s\u001b[0m 17ms/step\n\u001b[1m1/1\u001b[0m \u001b[32m━━━━━━━━━━━━━━━━━━━━\u001b[0m\u001b[37m\u001b[0m \u001b[1m0s\u001b[0m 16ms/step\n\u001b[1m1/1\u001b[0m \u001b[32m━━━━━━━━━━━━━━━━━━━━\u001b[0m\u001b[37m\u001b[0m \u001b[1m0s\u001b[0m 17ms/step\n\u001b[1m1/1\u001b[0m \u001b[32m━━━━━━━━━━━━━━━━━━━━\u001b[0m\u001b[37m\u001b[0m \u001b[1m0s\u001b[0m 19ms/step\n\u001b[1m1/1\u001b[0m \u001b[32m━━━━━━━━━━━━━━━━━━━━\u001b[0m\u001b[37m\u001b[0m \u001b[1m0s\u001b[0m 18ms/step\n\u001b[1m1/1\u001b[0m \u001b[32m━━━━━━━━━━━━━━━━━━━━\u001b[0m\u001b[37m\u001b[0m \u001b[1m0s\u001b[0m 19ms/step\n\u001b[1m1/1\u001b[0m \u001b[32m━━━━━━━━━━━━━━━━━━━━\u001b[0m\u001b[37m\u001b[0m \u001b[1m0s\u001b[0m 18ms/step\n\u001b[1m1/1\u001b[0m \u001b[32m━━━━━━━━━━━━━━━━━━━━\u001b[0m\u001b[37m\u001b[0m \u001b[1m0s\u001b[0m 17ms/step\n\u001b[1m1/1\u001b[0m \u001b[32m━━━━━━━━━━━━━━━━━━━━\u001b[0m\u001b[37m\u001b[0m \u001b[1m0s\u001b[0m 17ms/step\n\u001b[1m1/1\u001b[0m \u001b[32m━━━━━━━━━━━━━━━━━━━━\u001b[0m\u001b[37m\u001b[0m \u001b[1m0s\u001b[0m 17ms/step\n\u001b[1m1/1\u001b[0m \u001b[32m━━━━━━━━━━━━━━━━━━━━\u001b[0m\u001b[37m\u001b[0m \u001b[1m0s\u001b[0m 17ms/step\n\u001b[1m1/1\u001b[0m \u001b[32m━━━━━━━━━━━━━━━━━━━━\u001b[0m\u001b[37m\u001b[0m \u001b[1m0s\u001b[0m 16ms/step\n\u001b[1m1/1\u001b[0m \u001b[32m━━━━━━━━━━━━━━━━━━━━\u001b[0m\u001b[37m\u001b[0m \u001b[1m0s\u001b[0m 16ms/step\n\u001b[1m1/1\u001b[0m \u001b[32m━━━━━━━━━━━━━━━━━━━━\u001b[0m\u001b[37m\u001b[0m \u001b[1m0s\u001b[0m 17ms/step\n\u001b[1m1/1\u001b[0m \u001b[32m━━━━━━━━━━━━━━━━━━━━\u001b[0m\u001b[37m\u001b[0m \u001b[1m0s\u001b[0m 18ms/step\n\u001b[1m1/1\u001b[0m \u001b[32m━━━━━━━━━━━━━━━━━━━━\u001b[0m\u001b[37m\u001b[0m \u001b[1m0s\u001b[0m 18ms/step\n\u001b[1m1/1\u001b[0m \u001b[32m━━━━━━━━━━━━━━━━━━━━\u001b[0m\u001b[37m\u001b[0m \u001b[1m0s\u001b[0m 17ms/step\n\u001b[1m1/1\u001b[0m \u001b[32m━━━━━━━━━━━━━━━━━━━━\u001b[0m\u001b[37m\u001b[0m \u001b[1m0s\u001b[0m 18ms/step\n\u001b[1m1/1\u001b[0m \u001b[32m━━━━━━━━━━━━━━━━━━━━\u001b[0m\u001b[37m\u001b[0m \u001b[1m0s\u001b[0m 16ms/step\n\u001b[1m1/1\u001b[0m \u001b[32m━━━━━━━━━━━━━━━━━━━━\u001b[0m\u001b[37m\u001b[0m \u001b[1m0s\u001b[0m 17ms/step\n\u001b[1m1/1\u001b[0m \u001b[32m━━━━━━━━━━━━━━━━━━━━\u001b[0m\u001b[37m\u001b[0m \u001b[1m0s\u001b[0m 16ms/step\n\u001b[1m1/1\u001b[0m \u001b[32m━━━━━━━━━━━━━━━━━━━━\u001b[0m\u001b[37m\u001b[0m \u001b[1m0s\u001b[0m 18ms/step\n\u001b[1m1/1\u001b[0m \u001b[32m━━━━━━━━━━━━━━━━━━━━\u001b[0m\u001b[37m\u001b[0m \u001b[1m0s\u001b[0m 18ms/step\n\u001b[1m1/1\u001b[0m \u001b[32m━━━━━━━━━━━━━━━━━━━━\u001b[0m\u001b[37m\u001b[0m \u001b[1m0s\u001b[0m 17ms/step\n\u001b[1m1/1\u001b[0m \u001b[32m━━━━━━━━━━━━━━━━━━━━\u001b[0m\u001b[37m\u001b[0m \u001b[1m0s\u001b[0m 18ms/step\n\u001b[1m1/1\u001b[0m \u001b[32m━━━━━━━━━━━━━━━━━━━━\u001b[0m\u001b[37m\u001b[0m \u001b[1m0s\u001b[0m 19ms/step\n\u001b[1m1/1\u001b[0m \u001b[32m━━━━━━━━━━━━━━━━━━━━\u001b[0m\u001b[37m\u001b[0m \u001b[1m0s\u001b[0m 20ms/step\n\u001b[1m1/1\u001b[0m \u001b[32m━━━━━━━━━━━━━━━━━━━━\u001b[0m\u001b[37m\u001b[0m \u001b[1m0s\u001b[0m 19ms/step\n\u001b[1m1/1\u001b[0m \u001b[32m━━━━━━━━━━━━━━━━━━━━\u001b[0m\u001b[37m\u001b[0m \u001b[1m0s\u001b[0m 18ms/step\n\u001b[1m1/1\u001b[0m \u001b[32m━━━━━━━━━━━━━━━━━━━━\u001b[0m\u001b[37m\u001b[0m \u001b[1m0s\u001b[0m 18ms/step\n\u001b[1m1/1\u001b[0m \u001b[32m━━━━━━━━━━━━━━━━━━━━\u001b[0m\u001b[37m\u001b[0m \u001b[1m0s\u001b[0m 18ms/step\n\u001b[1m1/1\u001b[0m \u001b[32m━━━━━━━━━━━━━━━━━━━━\u001b[0m\u001b[37m\u001b[0m \u001b[1m0s\u001b[0m 17ms/step\n\u001b[1m1/1\u001b[0m \u001b[32m━━━━━━━━━━━━━━━━━━━━\u001b[0m\u001b[37m\u001b[0m \u001b[1m0s\u001b[0m 17ms/step\n\u001b[1m1/1\u001b[0m \u001b[32m━━━━━━━━━━━━━━━━━━━━\u001b[0m\u001b[37m\u001b[0m \u001b[1m0s\u001b[0m 17ms/step\n\u001b[1m1/1\u001b[0m \u001b[32m━━━━━━━━━━━━━━━━━━━━\u001b[0m\u001b[37m\u001b[0m \u001b[1m0s\u001b[0m 17ms/step\n\u001b[1m1/1\u001b[0m \u001b[32m━━━━━━━━━━━━━━━━━━━━\u001b[0m\u001b[37m\u001b[0m \u001b[1m0s\u001b[0m 17ms/step\n\u001b[1m1/1\u001b[0m \u001b[32m━━━━━━━━━━━━━━━━━━━━\u001b[0m\u001b[37m\u001b[0m \u001b[1m0s\u001b[0m 17ms/step\n\u001b[1m1/1\u001b[0m \u001b[32m━━━━━━━━━━━━━━━━━━━━\u001b[0m\u001b[37m\u001b[0m \u001b[1m0s\u001b[0m 17ms/step\n\u001b[1m1/1\u001b[0m \u001b[32m━━━━━━━━━━━━━━━━━━━━\u001b[0m\u001b[37m\u001b[0m \u001b[1m0s\u001b[0m 18ms/step\n\u001b[1m1/1\u001b[0m \u001b[32m━━━━━━━━━━━━━━━━━━━━\u001b[0m\u001b[37m\u001b[0m \u001b[1m0s\u001b[0m 17ms/step\n\u001b[1m1/1\u001b[0m \u001b[32m━━━━━━━━━━━━━━━━━━━━\u001b[0m\u001b[37m\u001b[0m \u001b[1m0s\u001b[0m 18ms/step\n\u001b[1m1/1\u001b[0m \u001b[32m━━━━━━━━━━━━━━━━━━━━\u001b[0m\u001b[37m\u001b[0m \u001b[1m0s\u001b[0m 18ms/step\n\u001b[1m1/1\u001b[0m \u001b[32m━━━━━━━━━━━━━━━━━━━━\u001b[0m\u001b[37m\u001b[0m \u001b[1m0s\u001b[0m 17ms/step\n\u001b[1m1/1\u001b[0m \u001b[32m━━━━━━━━━━━━━━━━━━━━\u001b[0m\u001b[37m\u001b[0m \u001b[1m0s\u001b[0m 17ms/step\n\u001b[1m1/1\u001b[0m \u001b[32m━━━━━━━━━━━━━━━━━━━━\u001b[0m\u001b[37m\u001b[0m \u001b[1m0s\u001b[0m 18ms/step\n\u001b[1m1/1\u001b[0m \u001b[32m━━━━━━━━━━━━━━━━━━━━\u001b[0m\u001b[37m\u001b[0m \u001b[1m0s\u001b[0m 17ms/step\n\u001b[1m1/1\u001b[0m \u001b[32m━━━━━━━━━━━━━━━━━━━━\u001b[0m\u001b[37m\u001b[0m \u001b[1m0s\u001b[0m 17ms/step\n\u001b[1m1/1\u001b[0m \u001b[32m━━━━━━━━━━━━━━━━━━━━\u001b[0m\u001b[37m\u001b[0m \u001b[1m0s\u001b[0m 17ms/step\n\u001b[1m1/1\u001b[0m \u001b[32m━━━━━━━━━━━━━━━━━━━━\u001b[0m\u001b[37m\u001b[0m \u001b[1m0s\u001b[0m 17ms/step\n\u001b[1m1/1\u001b[0m \u001b[32m━━━━━━━━━━━━━━━━━━━━\u001b[0m\u001b[37m\u001b[0m \u001b[1m0s\u001b[0m 17ms/step\n\u001b[1m1/1\u001b[0m \u001b[32m━━━━━━━━━━━━━━━━━━━━\u001b[0m\u001b[37m\u001b[0m \u001b[1m0s\u001b[0m 18ms/step\n\u001b[1m1/1\u001b[0m \u001b[32m━━━━━━━━━━━━━━━━━━━━\u001b[0m\u001b[37m\u001b[0m \u001b[1m0s\u001b[0m 17ms/step\n\u001b[1m1/1\u001b[0m \u001b[32m━━━━━━━━━━━━━━━━━━━━\u001b[0m\u001b[37m\u001b[0m \u001b[1m0s\u001b[0m 17ms/step\n\u001b[1m1/1\u001b[0m \u001b[32m━━━━━━━━━━━━━━━━━━━━\u001b[0m\u001b[37m\u001b[0m \u001b[1m0s\u001b[0m 16ms/step\n\u001b[1m1/1\u001b[0m \u001b[32m━━━━━━━━━━━━━━━━━━━━\u001b[0m\u001b[37m\u001b[0m \u001b[1m0s\u001b[0m 20ms/step\nImage: 100__389.jpg, Predicted Class: 1, Probability: 100.00% (Filename Denomination: 100)\nImage: 500__331.jpg, Predicted Class: 6, Probability: 100.00% (Filename Denomination: 500)\nImage: 20__136.jpg, Predicted Class: 2, Probability: 99.98% (Filename Denomination: 20)\nImage: 100__415.jpg, Predicted Class: 1, Probability: 100.00% (Filename Denomination: 100)\nImage: 100_359.jpg, Predicted Class: 1, Probability: 99.96% (Filename Denomination: 100)\nImage: 20__324.jpg, Predicted Class: 2, Probability: 99.61% (Filename Denomination: 20)\nImage: 50__274.jpg, Predicted Class: 5, Probability: 95.58% (Filename Denomination: 50)\nImage: 50__408.jpg, Predicted Class: 5, Probability: 99.21% (Filename Denomination: 50)\nImage: 20__107.jpg, Predicted Class: 2, Probability: 99.99% (Filename Denomination: 20)\nImage: 2000__66.jpg, Predicted Class: 4, Probability: 100.00% (Filename Denomination: 2000)\nImage: 10__324.jpg, Predicted Class: 0, Probability: 100.00% (Filename Denomination: 10)\nImage: 100_20.jpg, Predicted Class: 1, Probability: 100.00% (Filename Denomination: 100)\nImage: 100_15.jpg, Predicted Class: 1, Probability: 100.00% (Filename Denomination: 100)\nImage: 50__345.jpg, Predicted Class: 5, Probability: 100.00% (Filename Denomination: 50)\nImage: 500__17.jpg, Predicted Class: 6, Probability: 100.00% (Filename Denomination: 500)\nImage: 20__9.jpg, Predicted Class: 2, Probability: 64.04% (Filename Denomination: 20)\nImage: 20__295.jpg, Predicted Class: 2, Probability: 94.09% (Filename Denomination: 20)\nImage: 50__213.jpg, Predicted Class: 5, Probability: 99.85% (Filename Denomination: 50)\nImage: 200.__87.jpg, Predicted Class: 3, Probability: 100.00%\nImage: 2000__317.jpg, Predicted Class: 4, Probability: 100.00% (Filename Denomination: 2000)\nImage: 200.__492.jpg, Predicted Class: 3, Probability: 100.00%\nImage: 500__0.jpg, Predicted Class: 6, Probability: 100.00% (Filename Denomination: 500)\nImage: 20__65.jpg, Predicted Class: 2, Probability: 100.00% (Filename Denomination: 20)\nImage: 200.__170.jpg, Predicted Class: 3, Probability: 99.94%\nImage: 200.__402.jpg, Predicted Class: 3, Probability: 100.00%\nImage: 50__288.jpg, Predicted Class: 5, Probability: 100.00% (Filename Denomination: 50)\nImage: 500__114.jpg, Predicted Class: 6, Probability: 100.00% (Filename Denomination: 500)\nImage: 100__371.jpg, Predicted Class: 1, Probability: 53.61% (Filename Denomination: 100)\nImage: 50__148.jpg, Predicted Class: 5, Probability: 75.16% (Filename Denomination: 50)\nImage: 200.__37.jpg, Predicted Class: 3, Probability: 98.63%\nImage: 500__233.jpg, Predicted Class: 6, Probability: 99.97% (Filename Denomination: 500)\nImage: 10__247.jpg, Predicted Class: 0, Probability: 99.66% (Filename Denomination: 10)\nImage: 50__267.jpg, Predicted Class: 5, Probability: 99.78% (Filename Denomination: 50)\nImage: 10__443.jpg, Predicted Class: 0, Probability: 87.57% (Filename Denomination: 10)\nImage: 2000__8.jpg, Predicted Class: 4, Probability: 100.00% (Filename Denomination: 2000)\nImage: 2000__161.jpg, Predicted Class: 4, Probability: 100.00% (Filename Denomination: 2000)\nImage: 10__276.jpg, Predicted Class: 0, Probability: 99.99% (Filename Denomination: 10)\nImage: 100__386.jpg, Predicted Class: 1, Probability: 99.68% (Filename Denomination: 100)\nImage: Background__303.jpg, Predicted Class: 7, Probability: 98.01%\nImage: Background__312.jpg, Predicted Class: 7, Probability: 41.03%\nImage: 100__437.jpg, Predicted Class: 1, Probability: 99.67% (Filename Denomination: 100)\nImage: 200.__1.jpg, Predicted Class: 3, Probability: 100.00%\nImage: 100__427.jpg, Predicted Class: 1, Probability: 100.00% (Filename Denomination: 100)\nImage: Background__302.jpg, Predicted Class: 7, Probability: 100.00%\nImage: 500__57.jpg, Predicted Class: 6, Probability: 100.00% (Filename Denomination: 500)\nImage: Background__311.jpg, Predicted Class: 7, Probability: 99.94%\nImage: 100_4.jpg, Predicted Class: 1, Probability: 100.00% (Filename Denomination: 100)\nImage: 20__350.jpg, Predicted Class: 2, Probability: 100.00% (Filename Denomination: 20)\nImage: 2000__114.jpg, Predicted Class: 4, Probability: 100.00% (Filename Denomination: 2000)\nImage: 100_371.jpg, Predicted Class: 1, Probability: 94.36% (Filename Denomination: 100)\nImage: 2000__261.jpg, Predicted Class: 4, Probability: 100.00% (Filename Denomination: 2000)\nImage: Background__305.jpg, Predicted Class: 7, Probability: 100.00%\nImage: 200.__143.jpg, Predicted Class: 3, Probability: 95.55%\nImage: 500__429.jpg, Predicted Class: 6, Probability: 100.00% (Filename Denomination: 500)\nImage: 20__72.jpg, Predicted Class: 2, Probability: 100.00% (Filename Denomination: 20)\nImage: 50__295.jpg, Predicted Class: 5, Probability: 99.96% (Filename Denomination: 50)\nImage: 10__206.jpg, Predicted Class: 6, Probability: 44.08% (Filename Denomination: 10)\nImage: 200.__206.jpg, Predicted Class: 3, Probability: 100.00%\nImage: 200.__338.jpg, Predicted Class: 3, Probability: 99.62%\nImage: 500__262.jpg, Predicted Class: 6, Probability: 100.00% (Filename Denomination: 500)\nImage: 2000__240.jpg, Predicted Class: 4, Probability: 100.00% (Filename Denomination: 2000)\nImage: Background__304.jpg, Predicted Class: 7, Probability: 100.00%\nImage: 20__415.jpg, Predicted Class: 2, Probability: 100.00% (Filename Denomination: 20)\nImage: 20__36.jpg, Predicted Class: 2, Probability: 99.90% (Filename Denomination: 20)\nImage: 20__449.jpg, Predicted Class: 2, Probability: 100.00% (Filename Denomination: 20)\nImage: 100__435.jpg, Predicted Class: 1, Probability: 100.00% (Filename Denomination: 100)\nImage: 20__226.jpg, Predicted Class: 2, Probability: 100.00% (Filename Denomination: 20)\nImage: 500__289.jpg, Predicted Class: 6, Probability: 99.95% (Filename Denomination: 500)\nImage: 500__374.jpg, Predicted Class: 6, Probability: 100.00% (Filename Denomination: 500)\nImage: 200.__225.jpg, Predicted Class: 3, Probability: 100.00%\nImage: Background__310.jpg, Predicted Class: 7, Probability: 100.00%\nImage: Background__309.jpg, Predicted Class: 7, Probability: 94.92%\nImage: 2000__37.jpg, Predicted Class: 4, Probability: 100.00% (Filename Denomination: 2000)\nImage: 2000__428.jpg, Predicted Class: 4, Probability: 100.00% (Filename Denomination: 2000)\nImage: 2000__359.jpg, Predicted Class: 4, Probability: 100.00% (Filename Denomination: 2000)\nImage: 200.__142.jpg, Predicted Class: 3, Probability: 92.75%\nImage: 2000__288.jpg, Predicted Class: 4, Probability: 100.00% (Filename Denomination: 2000)\nImage: 50__366.jpg, Predicted Class: 5, Probability: 100.00% (Filename Denomination: 50)\nImage: 100_270.jpg, Predicted Class: 1, Probability: 100.00% (Filename Denomination: 100)\nImage: 50__338.jpg, Predicted Class: 5, Probability: 78.11% (Filename Denomination: 50)\nImage: 200.__254.jpg, Predicted Class: 3, Probability: 100.00%\nImage: 10__358.jpg, Predicted Class: 0, Probability: 95.19% (Filename Denomination: 10)\nImage: 500__37.jpg, Predicted Class: 6, Probability: 98.97% (Filename Denomination: 500)\nImage: 200.__17.jpg, Predicted Class: 3, Probability: 97.94%\nImage: 200.__290.jpg, Predicted Class: 3, Probability: 100.00%\nImage: 50__442.jpg, Predicted Class: 5, Probability: 99.94% (Filename Denomination: 50)\nImage: 100_3.jpg, Predicted Class: 1, Probability: 97.01% (Filename Denomination: 100)\nImage: 10__388.jpg, Predicted Class: 0, Probability: 100.00% (Filename Denomination: 10)\nImage: 50__147.jpg, Predicted Class: 5, Probability: 99.86% (Filename Denomination: 50)\nImage: 50__183.jpg, Predicted Class: 5, Probability: 100.00% (Filename Denomination: 50)\nImage: 200.__192.jpg, Predicted Class: 3, Probability: 100.00%\n",
          "output_type": "stream"
        }
      ]
    },
    {
      "cell_type": "code",
      "source": [
        "loss_train = history.history['loss']\n",
        "loss_val = history.history['val_loss']\n",
        "ep = range(epochs)\n",
        "plt.plot(ep, loss_train, label='Training loss')\n",
        "plt.plot(ep, loss_val, label='validation loss')\n",
        "plt.title('Training and Validation loss')\n",
        "plt.xlabel('Epochs')\n",
        "plt.ylabel('Loss')\n",
        "plt.legend()\n",
        "plt.show()"
      ],
      "metadata": {
        "execution": {
          "iopub.status.busy": "2024-03-24T12:24:45.608422Z",
          "iopub.status.idle": "2024-03-24T12:24:45.608853Z",
          "shell.execute_reply.started": "2024-03-24T12:24:45.608615Z",
          "shell.execute_reply": "2024-03-24T12:24:45.608629Z"
        },
        "trusted": true,
        "id": "4G80uZqvGCX4"
      },
      "execution_count": null,
      "outputs": []
    },
    {
      "cell_type": "code",
      "source": [
        "loss_train = history.history['accuracy']\n",
        "loss_val = history.history['val_accuracy']\n",
        "ep = range(epochs)\n",
        "plt.plot(ep, loss_train,label='Training accuracy')\n",
        "plt.plot(ep, loss_val, label='validation accuracy')\n",
        "plt.title('Training and Validation accuracy')\n",
        "plt.xlabel('Epochs')\n",
        "plt.ylabel('Accuracy')\n",
        "plt.legend()\n",
        "plt.show()"
      ],
      "metadata": {
        "execution": {
          "iopub.status.busy": "2024-03-24T12:24:45.610172Z",
          "iopub.status.idle": "2024-03-24T12:24:45.610534Z",
          "shell.execute_reply.started": "2024-03-24T12:24:45.610343Z",
          "shell.execute_reply": "2024-03-24T12:24:45.610357Z"
        },
        "trusted": true,
        "id": "zd_yzsHpGCX8"
      },
      "execution_count": null,
      "outputs": []
    },
    {
      "cell_type": "code",
      "source": [
        "model.save('updatedmodel.h5')"
      ],
      "metadata": {
        "execution": {
          "iopub.status.busy": "2024-03-24T12:28:56.645312Z",
          "iopub.execute_input": "2024-03-24T12:28:56.645691Z",
          "iopub.status.idle": "2024-03-24T12:28:56.693241Z",
          "shell.execute_reply.started": "2024-03-24T12:28:56.645661Z",
          "shell.execute_reply": "2024-03-24T12:28:56.69238Z"
        },
        "trusted": true,
        "id": "XfEXyNW6GCX-"
      },
      "execution_count": null,
      "outputs": []
    }
  ]
}